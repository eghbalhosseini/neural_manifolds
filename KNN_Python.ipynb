{
 "cells": [
  {
   "cell_type": "code",
   "execution_count": 115,
   "id": "compatible-snake",
   "metadata": {},
   "outputs": [],
   "source": [
    "import numpy as np\n",
    "import sys\n",
    "import os\n",
    "import argparse\n",
    "import pickle\n",
    "import fnmatch\n",
    "from tqdm import tqdm\n",
    "import re\n",
    "import itertools\n",
    "import random\n",
    "\n",
    "ROOTDIR = '/mindhive/evlab/u/Shared/Greta_Eghbal_manifolds/'\n",
    "model_identifier = 'NN-tree_nclass=64_nobj=64000_nhier=6_beta=0.000161_sigma=5.0_nfeat=936-train_test-fixed'\n",
    "train_identifier = 'epochs-10_batch-32_lr-0.01_momentum-0.5_init-gaussian_std-1e-06'\n",
    "analyze_identifier = 'mftma-exm_per_class=50-proj=False-rand=True-kappa=1e-08-n_t=300-n_rep=5'\n",
    "\n",
    "layer = 'layer_2_Linear'\n",
    "num_subsamples = 100"
   ]
  },
  {
   "cell_type": "code",
   "execution_count": 5,
   "id": "proprietary-namibia",
   "metadata": {},
   "outputs": [],
   "source": [
    "# Get extracted files for KNN sampling!\n",
    "# /extracted/mftma-exm_per_class=50-proj=False-rand=True-kappa=1e-08-n_t=300-n_rep=5/NN-tree_nclass=64_nobj=64000_nhier=6_beta=0.000161_sigma=5.0_nfeat=936-train_test-fixed/epochs-10_batch-32_lr-0.01_momentum-0.5_init-gaussian_std-1e-06"
   ]
  },
  {
   "cell_type": "code",
   "execution_count": 31,
   "id": "rocky-census",
   "metadata": {},
   "outputs": [],
   "source": [
    "extracted_files = []\n",
    "for file in os.listdir(os.path.join(ROOTDIR, 'extracted', analyze_identifier, model_identifier, train_identifier)):\n",
    "    if fnmatch.fnmatch(file, f'*{layer}_extracted.pkl'):\n",
    "        extracted_files.append(os.path.join(ROOTDIR, 'extracted', analyze_identifier, model_identifier, train_identifier, file))\n"
   ]
  },
  {
   "cell_type": "code",
   "execution_count": 33,
   "id": "assisted-terry",
   "metadata": {},
   "outputs": [],
   "source": [
    "assert(len(extracted_files) == 1060)"
   ]
  },
  {
   "cell_type": "code",
   "execution_count": 34,
   "id": "radical-alliance",
   "metadata": {},
   "outputs": [],
   "source": [
    "s = [re.findall('/\\d+', x) for x in extracted_files]\n",
    "s = [item for sublist in s for item in sublist]\n",
    "dummy_id = [(x.split('/')) for x in s]\n",
    "file_id = [int(x.split('/')[1]) for x in s]\n",
    "sorted_files = [extracted_files[x] for x in np.argsort(file_id)]"
   ]
  },
  {
   "cell_type": "code",
   "execution_count": 35,
   "id": "friendly-optimum",
   "metadata": {},
   "outputs": [],
   "source": [
    "# Subsample\n",
    "data = []\n",
    "targets = []\n",
    "epochs = []\n",
    "subepochs = []"
   ]
  },
  {
   "cell_type": "code",
   "execution_count": 36,
   "id": "radical-terminology",
   "metadata": {},
   "outputs": [
    {
     "name": "stdout",
     "output_type": "stream",
     "text": [
      "/mindhive/evlab/u/Shared/Greta_Eghbal_manifolds/extracted/mftma-exm_per_class=50-proj=False-rand=True-kappa=1e-08-n_t=300-n_rep=5/NN-tree_nclass=64_nobj=64000_nhier=6_beta=0.000161_sigma=5.0_nfeat=936-train_test-fixed/epochs-10_batch-32_lr-0.01_momentum-0.5_init-gaussian_std-1e-06/0020_NN-tree_nclass=64_nobj=64000_nhier=6_beta=0.000161_sigma=5.0_nfeat=936-train_test-fixed-epoch=01-batchidx=315_layer_2_Linear_extracted.pkl\n"
     ]
    }
   ],
   "source": [
    "g = pickle.load(open(extracted_files[0],'rb'))\n",
    "print(extracted_files[0])"
   ]
  },
  {
   "cell_type": "code",
   "execution_count": 134,
   "id": "extreme-relief",
   "metadata": {},
   "outputs": [],
   "source": [
    "t = extracted_files[0].split('batchidx=')[1]\n",
    "batchidx = t.split('_')[0]"
   ]
  },
  {
   "cell_type": "code",
   "execution_count": 137,
   "id": "filled-christmas",
   "metadata": {},
   "outputs": [],
   "source": [
    "t2 = extracted_files[0].split('epoch=')[1]\n",
    "epoch = t2.split('-')[0]"
   ]
  },
  {
   "cell_type": "code",
   "execution_count": 138,
   "id": "blocked-parcel",
   "metadata": {},
   "outputs": [
    {
     "data": {
      "text/plain": [
       "'01'"
      ]
     },
     "execution_count": 138,
     "metadata": {},
     "output_type": "execute_result"
    }
   ],
   "source": [
    "epoch"
   ]
  },
  {
   "cell_type": "code",
   "execution_count": 37,
   "id": "advance-baseball",
   "metadata": {},
   "outputs": [
    {
     "name": "stdout",
     "output_type": "stream",
     "text": [
      "dict_keys(['layer_2_Linear'])\n",
      "dict_keys(['layer_2_Linear'])\n",
      "dict_keys(['layer_2_Linear'])\n",
      "dict_keys(['layer_2_Linear'])\n",
      "dict_keys(['layer_2_Linear'])\n",
      "dict_keys(['layer_2_Linear'])\n"
     ]
    }
   ],
   "source": [
    "for hier in range(len(g['projection_results'])):\n",
    "    print(g['projection_results'][hier].keys())"
   ]
  },
  {
   "cell_type": "code",
   "execution_count": 40,
   "id": "unauthorized-cycling",
   "metadata": {},
   "outputs": [
    {
     "data": {
      "text/plain": [
       "2"
      ]
     },
     "execution_count": 40,
     "metadata": {},
     "output_type": "execute_result"
    }
   ],
   "source": [
    "len(g['projection_results'][hier][layer])"
   ]
  },
  {
   "cell_type": "code",
   "execution_count": 42,
   "id": "secure-hartford",
   "metadata": {},
   "outputs": [
    {
     "data": {
      "text/plain": [
       "(2, 208, 50)"
      ]
     },
     "execution_count": 42,
     "metadata": {},
     "output_type": "execute_result"
    }
   ],
   "source": [
    "np.asarray(g['projection_results'][hier][layer]).shape"
   ]
  },
  {
   "cell_type": "code",
   "execution_count": 109,
   "id": "ruled-amsterdam",
   "metadata": {},
   "outputs": [],
   "source": [
    "hier_idx = 4\n",
    "projs = g['projection_results']\n",
    "hier = np.asarray(projs[hier_idx][layer])"
   ]
  },
  {
   "cell_type": "code",
   "execution_count": 110,
   "id": "express-climb",
   "metadata": {},
   "outputs": [],
   "source": [
    "hier_moved = np.moveaxis(hier, 1, -1)"
   ]
  },
  {
   "cell_type": "code",
   "execution_count": 111,
   "id": "chemical-cannon",
   "metadata": {},
   "outputs": [
    {
     "data": {
      "text/plain": [
       "4"
      ]
     },
     "execution_count": 111,
     "metadata": {},
     "output_type": "execute_result"
    }
   ],
   "source": [
    "hier_moved.shape[0]"
   ]
  },
  {
   "cell_type": "code",
   "execution_count": 112,
   "id": "generous-temple",
   "metadata": {},
   "outputs": [
    {
     "name": "stdout",
     "output_type": "stream",
     "text": [
      "(4, 50, 208)\n",
      "(200, 208)\n"
     ]
    }
   ],
   "source": [
    "# reshape into # classes, # samples, # features\n",
    "hier_moved = np.moveaxis(hier, 1, -1)\n",
    "print(hier_moved.shape)\n",
    "\n",
    "# flatten samples\n",
    "hier_flat = np.reshape(hier_moved, [hier_moved.shape[0]*hier_moved.shape[1], hier_moved.shape[2]])\n",
    "print(hier_flat.shape)"
   ]
  },
  {
   "cell_type": "code",
   "execution_count": 113,
   "id": "chinese-auditor",
   "metadata": {},
   "outputs": [
    {
     "name": "stdout",
     "output_type": "stream",
     "text": [
      "Sample 1 from class 1: [ 9.2271031e-05 -4.1967232e-04]\n",
      "Sample 2 from class 1: [-0.00041304 -0.00055493]\n",
      "Sample 1 from class 2: [-0.00034093  0.00033659]\n",
      "Sample 2 from class 2: [-0.00067744 -0.00057679]\n"
     ]
    }
   ],
   "source": [
    "# test flattening\n",
    "print(f'Sample 1 from class 1: {hier_moved[0,0,:2]}')\n",
    "print(f'Sample 2 from class 1: {hier_moved[0,1,:2]}')\n",
    "\n",
    "print(f'Sample 1 from class 2: {hier_moved[1,0,:2]}')\n",
    "print(f'Sample 2 from class 2: {hier_moved[1,1,:2]}')\n",
    "\n",
    "print(f'Sample 1 flattened: {hier_flat[0][:2]}')\n",
    "print(f'Sample 2 flattened: {hier_flat[1][:2]}')\n",
    "print(f'Sample 51 flattened: {hier_flat[50][:2]}')\n",
    "print(f'Sample 52 flattened: {hier_flat[51][:2]}')\n",
    "# ie the first 50 samples (rows) correspond to class 1, the next 50 rows for class 2 etc"
   ]
  },
  {
   "cell_type": "code",
   "execution_count": 119,
   "id": "mineral-pattern",
   "metadata": {},
   "outputs": [],
   "source": [
    "targets_array = np.asarray([[(i+1)]*hier_moved.shape[1] for i in range(hier_moved.shape[0])])"
   ]
  },
  {
   "cell_type": "code",
   "execution_count": 139,
   "id": "asian-assets",
   "metadata": {},
   "outputs": [],
   "source": [
    "targets_flatten = targets_array.ravel()"
   ]
  },
  {
   "cell_type": "code",
   "execution_count": 125,
   "id": "ideal-joshua",
   "metadata": {},
   "outputs": [],
   "source": [
    "sample_idx = random.sample(range(hier_flat.shape[0]), num_subsamples)\n",
    "\n",
    "subsampled_data = hier_flat[sample_idx, :]\n",
    "subsampled_targets = targets_flatten[sample_idx]\n",
    "\n",
    "assert(len(subsampled_data) == num_subsamples)"
   ]
  },
  {
   "cell_type": "code",
   "execution_count": 140,
   "id": "timely-taxation",
   "metadata": {},
   "outputs": [
    {
     "ename": "NameError",
     "evalue": "name 'data' is not defined",
     "output_type": "error",
     "traceback": [
      "\u001b[0;31m---------------------------------------------------------------------------\u001b[0m",
      "\u001b[0;31mNameError\u001b[0m                                 Traceback (most recent call last)",
      "\u001b[0;32m<ipython-input-140-06295d356706>\u001b[0m in \u001b[0;36m<module>\u001b[0;34m\u001b[0m\n\u001b[0;32m----> 1\u001b[0;31m \u001b[0mdata\u001b[0m\u001b[0;34m.\u001b[0m\u001b[0mappend\u001b[0m\u001b[0;34m(\u001b[0m\u001b[0msubsampled_data\u001b[0m\u001b[0;34m)\u001b[0m\u001b[0;34m\u001b[0m\u001b[0;34m\u001b[0m\u001b[0m\n\u001b[0m\u001b[1;32m      2\u001b[0m \u001b[0mtargets\u001b[0m\u001b[0;34m.\u001b[0m\u001b[0mappend\u001b[0m\u001b[0;34m(\u001b[0m\u001b[0mtargets_flatten\u001b[0m\u001b[0;34m)\u001b[0m\u001b[0;34m\u001b[0m\u001b[0;34m\u001b[0m\u001b[0m\n\u001b[1;32m      3\u001b[0m \u001b[0mepochs\u001b[0m\u001b[0;34m.\u001b[0m\u001b[0mappend\u001b[0m\u001b[0;34m(\u001b[0m\u001b[0mepoch\u001b[0m\u001b[0;34m)\u001b[0m\u001b[0;34m\u001b[0m\u001b[0;34m\u001b[0m\u001b[0m\n\u001b[1;32m      4\u001b[0m \u001b[0msubepochs\u001b[0m\u001b[0;34m.\u001b[0m\u001b[0mappend\u001b[0m\u001b[0;34m(\u001b[0m\u001b[0msubepoch\u001b[0m\u001b[0;34m)\u001b[0m\u001b[0;34m\u001b[0m\u001b[0;34m\u001b[0m\u001b[0m\n",
      "\u001b[0;31mNameError\u001b[0m: name 'data' is not defined"
     ]
    }
   ],
   "source": [
    "data.append(subsampled_data)\n",
    "targets.append(targets_flatten)\n",
    "epochs.append(epoch*num_subsamples)\n",
    "subepochs.append(subepoch*num_subsamples)"
   ]
  },
  {
   "cell_type": "code",
   "execution_count": 141,
   "id": "committed-pocket",
   "metadata": {},
   "outputs": [
    {
     "ename": "SyntaxError",
     "evalue": "invalid syntax (<ipython-input-141-3e827e153922>, line 1)",
     "output_type": "error",
     "traceback": [
      "\u001b[0;36m  File \u001b[0;32m\"<ipython-input-141-3e827e153922>\"\u001b[0;36m, line \u001b[0;32m1\u001b[0m\n\u001b[0;31m    production_time = list(range(1:len(epoch)))\u001b[0m\n\u001b[0m                                  ^\u001b[0m\n\u001b[0;31mSyntaxError\u001b[0m\u001b[0;31m:\u001b[0m invalid syntax\n"
     ]
    }
   ],
   "source": [
    "production_time = list(range(1,len(epoch))) \n",
    "time = list(range(1,len(sorted_files)))\n"
   ]
  },
  {
   "cell_type": "code",
   "execution_count": null,
   "id": "incorporate-emerald",
   "metadata": {},
   "outputs": [],
   "source": [
    "relTime = productionTime./max(productionTime);"
   ]
  },
  {
   "cell_type": "code",
   "execution_count": 143,
   "id": "chicken-thong",
   "metadata": {},
   "outputs": [],
   "source": [
    "time = list(range(1,len(sorted_files)))\n"
   ]
  },
  {
   "cell_type": "code",
   "execution_count": null,
   "id": "listed-balance",
   "metadata": {},
   "outputs": [],
   "source": []
  }
 ],
 "metadata": {
  "kernelspec": {
   "display_name": "Python 3",
   "language": "python",
   "name": "python3"
  },
  "language_info": {
   "codemirror_mode": {
    "name": "ipython",
    "version": 3
   },
   "file_extension": ".py",
   "mimetype": "text/x-python",
   "name": "python",
   "nbconvert_exporter": "python",
   "pygments_lexer": "ipython3",
   "version": "3.7.10"
  }
 },
 "nbformat": 4,
 "nbformat_minor": 5
}
