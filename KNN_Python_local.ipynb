{
 "cells": [
  {
   "cell_type": "code",
   "execution_count": 1,
   "id": "characteristic-center",
   "metadata": {},
   "outputs": [],
   "source": [
    "import cudf\n",
    "from cuml.datasets import make_blobs\n",
    "from cuml.neighbors import NearestNeighbors as cuNearestNeighbors"
   ]
  },
  {
   "cell_type": "code",
   "execution_count": 76,
   "id": "correct-melbourne",
   "metadata": {},
   "outputs": [
    {
     "name": "stderr",
     "output_type": "stream",
     "text": [
      "Matplotlib created a temporary config/cache directory at /tmp/matplotlib-g2r2sck2 because the default path (/home/gretatu/.cache/matplotlib) is not a writable directory; it is highly recommended to set the MPLCONFIGDIR environment variable to a writable directory, in particular to speed up the import of Matplotlib and to better support multiprocessing.\n"
     ]
    }
   ],
   "source": [
    "import numpy as np\n",
    "import sys\n",
    "import os\n",
    "import argparse\n",
    "import pickle\n",
    "import fnmatch\n",
    "from tqdm import tqdm\n",
    "import re\n",
    "import itertools\n",
    "import random\n",
    "import argparse\n",
    "import matplotlib.pyplot as plt\n",
    "\n",
    "ROOTDIR = '/mindhive/evlab/u/Shared/Greta_Eghbal_manifolds/'\n",
    "model_identifier = 'NN-tree_nclass=64_nobj=64000_nhier=6_beta=0.000161_sigma=5.0_nfeat=936-train_test-fixed'\n",
    "train_identifier = 'epochs-10_batch-32_lr-0.01_momentum-0.5_init-gaussian_std-1e-06'\n",
    "analyze_identifier = 'mftma-exm_per_class=50-proj=False-rand=True-kappa=1e-08-n_t=300-n_rep=5'\n",
    "\n",
    "hier_idx = 4\n",
    "layer = 'layer_2_Linear'\n",
    "num_subsamples = 100\n",
    "k = 100"
   ]
  },
  {
   "cell_type": "code",
   "execution_count": 5,
   "id": "supported-gross",
   "metadata": {},
   "outputs": [],
   "source": [
    "def main(raw_args=None):\n",
    "    # Mapping specific\n",
    "    parser = argparse.ArgumentParser(description='Compute KNN')\n",
    "    parser.add_argument('--ROOTDIR', default='/mindhive/evlab/u/Shared/Greta_Eghbal_manifolds/', type=str)\n",
    "    parser.add_argument('--model_identifier', default='NN-tree_nclass=64_nobj=64000_nhier=6_beta=0.000161_sigma=5.0_nfeat=936-train_test-fixed',\n",
    "                        type=str, help='Model ID str')\n",
    "    parser.add_argument('--train_identifier', default='epochs-10_batch-32_lr-0.01_momentum-0.5_init-gaussian_std-1e-06', type=str)\n",
    "    parser.add_argument('--analyze_identifier', default='mftma-exm_per_class=50-proj=False-rand=True-kappa=1e-08-n_t=300-n_rep=5', type=str)\n",
    "    parser.add_argument('--layer', default='layer_2_Linear', type=str, help='Model layer of interest')\n",
    "    parser.add_argument('--num_subsamples', default='100', type=str, help='Number of subsamples per time point')\n",
    "    parser.add_argument('--hier_idx', default='4', type=str, help='Hierarchy number, starts at 0 (leaf)')\n",
    "    parser.add_argument('--k', default='100', type=str, help='Number of neighbors')\n",
    "\n",
    "    args = parser.parse_args(raw_args)\n",
    "\n",
    "    print('*' * 40)\n",
    "    print(vars(args))\n",
    "    print('*' * 40)\n",
    "    \n",
    "    layer = args.layer\n",
    "    num_subsamples = int(args.num_subsamples)\n",
    "    hier_idx = int(args.hier_idx)\n",
    "    k = int(args.k)\n",
    "    \n",
    "\n",
    "# Get extracted files for KNN sampling!\n",
    "# /extracted/mftma-exm_per_class=50-proj=False-rand=True-kappa=1e-08-n_t=300-n_rep=5/NN-tree_nclass=64_nobj=64000_nhier=6_beta=0.000161_sigma=5.0_nfeat=936-train_test-fixed/epochs-10_batch-32_lr-0.01_momentum-0.5_init-gaussian_std-1e-06"
   ]
  },
  {
   "cell_type": "code",
   "execution_count": 5,
   "id": "prepared-quebec",
   "metadata": {},
   "outputs": [],
   "source": [
    "device_data, _ = make_blobs(n_samples=5,\n",
    "                            n_features=100,\n",
    "                            centers=5,\n",
    "                            random_state=0)\n",
    "\n"
   ]
  },
  {
   "cell_type": "code",
   "execution_count": 7,
   "id": "increasing-booth",
   "metadata": {},
   "outputs": [
    {
     "ename": "AttributeError",
     "evalue": "'cupy.core.core.ndarray' object has no attribute 'type'",
     "output_type": "error",
     "traceback": [
      "\u001b[0;31m---------------------------------------------------------------------------\u001b[0m",
      "\u001b[0;31mAttributeError\u001b[0m                            Traceback (most recent call last)",
      "\u001b[0;32m<ipython-input-7-730ad1cc53cc>\u001b[0m in \u001b[0;36m<module>\u001b[0;34m\u001b[0m\n\u001b[0;32m----> 1\u001b[0;31m \u001b[0mdevice_data\u001b[0m\u001b[0;34m.\u001b[0m\u001b[0mtype\u001b[0m\u001b[0;34m(\u001b[0m\u001b[0;34m)\u001b[0m\u001b[0;34m\u001b[0m\u001b[0;34m\u001b[0m\u001b[0m\n\u001b[0m",
      "\u001b[0;31mAttributeError\u001b[0m: 'cupy.core.core.ndarray' object has no attribute 'type'"
     ]
    }
   ],
   "source": [
    "device_data.type()"
   ]
  },
  {
   "cell_type": "code",
   "execution_count": 8,
   "id": "verified-occurrence",
   "metadata": {},
   "outputs": [],
   "source": [
    "device_data = cudf.DataFrame(device_data)"
   ]
  },
  {
   "cell_type": "code",
   "execution_count": 9,
   "id": "legal-vulnerability",
   "metadata": {},
   "outputs": [
    {
     "ename": "AttributeError",
     "evalue": "'DataFrame' object has no attribute 'type'",
     "output_type": "error",
     "traceback": [
      "\u001b[0;31m---------------------------------------------------------------------------\u001b[0m",
      "\u001b[0;31mAttributeError\u001b[0m                            Traceback (most recent call last)",
      "\u001b[0;32m<ipython-input-9-730ad1cc53cc>\u001b[0m in \u001b[0;36m<module>\u001b[0;34m\u001b[0m\n\u001b[0;32m----> 1\u001b[0;31m \u001b[0mdevice_data\u001b[0m\u001b[0;34m.\u001b[0m\u001b[0mtype\u001b[0m\u001b[0;34m(\u001b[0m\u001b[0;34m)\u001b[0m\u001b[0;34m\u001b[0m\u001b[0;34m\u001b[0m\u001b[0m\n\u001b[0m",
      "\u001b[0;32m/opt/conda/envs/rapids/lib/python3.7/site-packages/cudf/core/dataframe.py\u001b[0m in \u001b[0;36m__getattr__\u001b[0;34m(self, key)\u001b[0m\n\u001b[1;32m    633\u001b[0m                 \u001b[0;32mreturn\u001b[0m \u001b[0mself\u001b[0m\u001b[0;34m[\u001b[0m\u001b[0mkey\u001b[0m\u001b[0;34m]\u001b[0m\u001b[0;34m\u001b[0m\u001b[0;34m\u001b[0m\u001b[0m\n\u001b[1;32m    634\u001b[0m \u001b[0;34m\u001b[0m\u001b[0m\n\u001b[0;32m--> 635\u001b[0;31m         \u001b[0;32mraise\u001b[0m \u001b[0mAttributeError\u001b[0m\u001b[0;34m(\u001b[0m\u001b[0;34m\"'DataFrame' object has no attribute %r\"\u001b[0m \u001b[0;34m%\u001b[0m \u001b[0mkey\u001b[0m\u001b[0;34m)\u001b[0m\u001b[0;34m\u001b[0m\u001b[0;34m\u001b[0m\u001b[0m\n\u001b[0m\u001b[1;32m    636\u001b[0m \u001b[0;34m\u001b[0m\u001b[0m\n\u001b[1;32m    637\u001b[0m     \u001b[0;34m@\u001b[0m\u001b[0mannotate\u001b[0m\u001b[0;34m(\u001b[0m\u001b[0;34m\"DATAFRAME_GETITEM\"\u001b[0m\u001b[0;34m,\u001b[0m \u001b[0mcolor\u001b[0m\u001b[0;34m=\u001b[0m\u001b[0;34m\"blue\"\u001b[0m\u001b[0;34m,\u001b[0m \u001b[0mdomain\u001b[0m\u001b[0;34m=\u001b[0m\u001b[0;34m\"cudf_python\"\u001b[0m\u001b[0;34m)\u001b[0m\u001b[0;34m\u001b[0m\u001b[0;34m\u001b[0m\u001b[0m\n",
      "\u001b[0;31mAttributeError\u001b[0m: 'DataFrame' object has no attribute 'type'"
     ]
    }
   ],
   "source": [
    "device_data.type()"
   ]
  },
  {
   "cell_type": "code",
   "execution_count": 11,
   "id": "acoustic-mining",
   "metadata": {},
   "outputs": [],
   "source": [
    "knn_cuml = cuNearestNeighbors()\n",
    "knn_cuml.fit(device_data)\n",
    "D_cuml, I_cuml = knn_cuml.kneighbors(device_data, 3)"
   ]
  },
  {
   "cell_type": "code",
   "execution_count": 12,
   "id": "unable-librarian",
   "metadata": {},
   "outputs": [
    {
     "data": {
      "text/html": [
       "<div>\n",
       "<style scoped>\n",
       "    .dataframe tbody tr th:only-of-type {\n",
       "        vertical-align: middle;\n",
       "    }\n",
       "\n",
       "    .dataframe tbody tr th {\n",
       "        vertical-align: top;\n",
       "    }\n",
       "\n",
       "    .dataframe thead th {\n",
       "        text-align: right;\n",
       "    }\n",
       "</style>\n",
       "<table border=\"1\" class=\"dataframe\">\n",
       "  <thead>\n",
       "    <tr style=\"text-align: right;\">\n",
       "      <th></th>\n",
       "      <th>0</th>\n",
       "      <th>1</th>\n",
       "      <th>2</th>\n",
       "    </tr>\n",
       "  </thead>\n",
       "  <tbody>\n",
       "    <tr>\n",
       "      <th>0</th>\n",
       "      <td>0.022097</td>\n",
       "      <td>15.289548</td>\n",
       "      <td>15.979227</td>\n",
       "    </tr>\n",
       "    <tr>\n",
       "      <th>1</th>\n",
       "      <td>0.000000</td>\n",
       "      <td>74.751656</td>\n",
       "      <td>75.063850</td>\n",
       "    </tr>\n",
       "    <tr>\n",
       "      <th>2</th>\n",
       "      <td>0.022097</td>\n",
       "      <td>13.590247</td>\n",
       "      <td>15.979227</td>\n",
       "    </tr>\n",
       "    <tr>\n",
       "      <th>3</th>\n",
       "      <td>0.022097</td>\n",
       "      <td>13.376369</td>\n",
       "      <td>16.026751</td>\n",
       "    </tr>\n",
       "    <tr>\n",
       "      <th>4</th>\n",
       "      <td>0.000000</td>\n",
       "      <td>13.376369</td>\n",
       "      <td>13.590247</td>\n",
       "    </tr>\n",
       "  </tbody>\n",
       "</table>\n",
       "</div>"
      ],
      "text/plain": [
       "          0          1          2\n",
       "0  0.022097  15.289548  15.979227\n",
       "1  0.000000  74.751656  75.063850\n",
       "2  0.022097  13.590247  15.979227\n",
       "3  0.022097  13.376369  16.026751\n",
       "4  0.000000  13.376369  13.590247"
      ]
     },
     "execution_count": 12,
     "metadata": {},
     "output_type": "execute_result"
    }
   ],
   "source": [
    "D_cuml"
   ]
  },
  {
   "cell_type": "code",
   "execution_count": 13,
   "id": "magnetic-mortgage",
   "metadata": {},
   "outputs": [
    {
     "data": {
      "text/html": [
       "<div>\n",
       "<style scoped>\n",
       "    .dataframe tbody tr th:only-of-type {\n",
       "        vertical-align: middle;\n",
       "    }\n",
       "\n",
       "    .dataframe tbody tr th {\n",
       "        vertical-align: top;\n",
       "    }\n",
       "\n",
       "    .dataframe thead th {\n",
       "        text-align: right;\n",
       "    }\n",
       "</style>\n",
       "<table border=\"1\" class=\"dataframe\">\n",
       "  <thead>\n",
       "    <tr style=\"text-align: right;\">\n",
       "      <th></th>\n",
       "      <th>0</th>\n",
       "      <th>1</th>\n",
       "      <th>2</th>\n",
       "    </tr>\n",
       "  </thead>\n",
       "  <tbody>\n",
       "    <tr>\n",
       "      <th>0</th>\n",
       "      <td>0</td>\n",
       "      <td>4</td>\n",
       "      <td>2</td>\n",
       "    </tr>\n",
       "    <tr>\n",
       "      <th>1</th>\n",
       "      <td>1</td>\n",
       "      <td>0</td>\n",
       "      <td>4</td>\n",
       "    </tr>\n",
       "    <tr>\n",
       "      <th>2</th>\n",
       "      <td>2</td>\n",
       "      <td>4</td>\n",
       "      <td>0</td>\n",
       "    </tr>\n",
       "    <tr>\n",
       "      <th>3</th>\n",
       "      <td>3</td>\n",
       "      <td>4</td>\n",
       "      <td>0</td>\n",
       "    </tr>\n",
       "    <tr>\n",
       "      <th>4</th>\n",
       "      <td>4</td>\n",
       "      <td>3</td>\n",
       "      <td>2</td>\n",
       "    </tr>\n",
       "  </tbody>\n",
       "</table>\n",
       "</div>"
      ],
      "text/plain": [
       "   0  1  2\n",
       "0  0  4  2\n",
       "1  1  0  4\n",
       "2  2  4  0\n",
       "3  3  4  0\n",
       "4  4  3  2"
      ]
     },
     "execution_count": 13,
     "metadata": {},
     "output_type": "execute_result"
    }
   ],
   "source": [
    "I_cuml"
   ]
  },
  {
   "cell_type": "code",
   "execution_count": 15,
   "id": "dressed-acting",
   "metadata": {},
   "outputs": [],
   "source": [
    "# Try with numpy array as device data\n",
    "test_data = np.random.rand(10,10)"
   ]
  },
  {
   "cell_type": "code",
   "execution_count": 16,
   "id": "regulated-conjunction",
   "metadata": {},
   "outputs": [
    {
     "data": {
      "text/plain": [
       "array([[0.33033482, 0.20464863, 0.61927097, 0.29965467, 0.26682728,\n",
       "        0.62113383, 0.52914209, 0.13457995, 0.51357812, 0.18443987],\n",
       "       [0.78533515, 0.85397529, 0.49423684, 0.84656149, 0.07964548,\n",
       "        0.50524609, 0.0652865 , 0.42812233, 0.09653092, 0.12715997],\n",
       "       [0.59674531, 0.226012  , 0.10694568, 0.22030621, 0.34982629,\n",
       "        0.46778748, 0.20174323, 0.64040673, 0.48306984, 0.50523672],\n",
       "       [0.38689265, 0.79363745, 0.58000418, 0.1622986 , 0.70075235,\n",
       "        0.96455108, 0.50000836, 0.88952006, 0.34161365, 0.56714413],\n",
       "       [0.42754596, 0.43674726, 0.77655918, 0.53560417, 0.95374223,\n",
       "        0.54420816, 0.08209492, 0.3663424 , 0.8508505 , 0.40627504],\n",
       "       [0.02720237, 0.24717724, 0.06714437, 0.99385201, 0.97058031,\n",
       "        0.80025835, 0.60181712, 0.76495986, 0.16922545, 0.29302323],\n",
       "       [0.52406688, 0.35662428, 0.04567897, 0.98315345, 0.44135492,\n",
       "        0.50400044, 0.32354132, 0.25974475, 0.38688989, 0.8320169 ],\n",
       "       [0.73674706, 0.37921057, 0.01301734, 0.79740494, 0.2693888 ,\n",
       "        0.58268489, 0.02555094, 0.66220202, 0.38752343, 0.4970738 ],\n",
       "       [0.41490584, 0.3508719 , 0.55097791, 0.97291069, 0.11277622,\n",
       "        0.31325853, 0.04179771, 0.73839976, 0.65751239, 0.21463575],\n",
       "       [0.41675344, 0.64384193, 0.66148133, 0.17047713, 0.88165224,\n",
       "        0.77800816, 0.13395421, 0.86891663, 0.74877788, 0.79858565]])"
      ]
     },
     "execution_count": 16,
     "metadata": {},
     "output_type": "execute_result"
    }
   ],
   "source": [
    "test_data"
   ]
  },
  {
   "cell_type": "code",
   "execution_count": 17,
   "id": "established-petersburg",
   "metadata": {},
   "outputs": [],
   "source": [
    "device_data = cudf.DataFrame(test_data)"
   ]
  },
  {
   "cell_type": "code",
   "execution_count": 18,
   "id": "received-certificate",
   "metadata": {},
   "outputs": [
    {
     "data": {
      "text/html": [
       "<div>\n",
       "<style scoped>\n",
       "    .dataframe tbody tr th:only-of-type {\n",
       "        vertical-align: middle;\n",
       "    }\n",
       "\n",
       "    .dataframe tbody tr th {\n",
       "        vertical-align: top;\n",
       "    }\n",
       "\n",
       "    .dataframe thead th {\n",
       "        text-align: right;\n",
       "    }\n",
       "</style>\n",
       "<table border=\"1\" class=\"dataframe\">\n",
       "  <thead>\n",
       "    <tr style=\"text-align: right;\">\n",
       "      <th></th>\n",
       "      <th>0</th>\n",
       "      <th>1</th>\n",
       "      <th>2</th>\n",
       "      <th>3</th>\n",
       "      <th>4</th>\n",
       "      <th>5</th>\n",
       "      <th>6</th>\n",
       "      <th>7</th>\n",
       "      <th>8</th>\n",
       "      <th>9</th>\n",
       "    </tr>\n",
       "  </thead>\n",
       "  <tbody>\n",
       "    <tr>\n",
       "      <th>0</th>\n",
       "      <td>0.330335</td>\n",
       "      <td>0.204649</td>\n",
       "      <td>0.619271</td>\n",
       "      <td>0.299655</td>\n",
       "      <td>0.266827</td>\n",
       "      <td>0.621134</td>\n",
       "      <td>0.529142</td>\n",
       "      <td>0.134580</td>\n",
       "      <td>0.513578</td>\n",
       "      <td>0.184440</td>\n",
       "    </tr>\n",
       "    <tr>\n",
       "      <th>1</th>\n",
       "      <td>0.785335</td>\n",
       "      <td>0.853975</td>\n",
       "      <td>0.494237</td>\n",
       "      <td>0.846561</td>\n",
       "      <td>0.079645</td>\n",
       "      <td>0.505246</td>\n",
       "      <td>0.065287</td>\n",
       "      <td>0.428122</td>\n",
       "      <td>0.096531</td>\n",
       "      <td>0.127160</td>\n",
       "    </tr>\n",
       "    <tr>\n",
       "      <th>2</th>\n",
       "      <td>0.596745</td>\n",
       "      <td>0.226012</td>\n",
       "      <td>0.106946</td>\n",
       "      <td>0.220306</td>\n",
       "      <td>0.349826</td>\n",
       "      <td>0.467787</td>\n",
       "      <td>0.201743</td>\n",
       "      <td>0.640407</td>\n",
       "      <td>0.483070</td>\n",
       "      <td>0.505237</td>\n",
       "    </tr>\n",
       "    <tr>\n",
       "      <th>3</th>\n",
       "      <td>0.386893</td>\n",
       "      <td>0.793637</td>\n",
       "      <td>0.580004</td>\n",
       "      <td>0.162299</td>\n",
       "      <td>0.700752</td>\n",
       "      <td>0.964551</td>\n",
       "      <td>0.500008</td>\n",
       "      <td>0.889520</td>\n",
       "      <td>0.341614</td>\n",
       "      <td>0.567144</td>\n",
       "    </tr>\n",
       "    <tr>\n",
       "      <th>4</th>\n",
       "      <td>0.427546</td>\n",
       "      <td>0.436747</td>\n",
       "      <td>0.776559</td>\n",
       "      <td>0.535604</td>\n",
       "      <td>0.953742</td>\n",
       "      <td>0.544208</td>\n",
       "      <td>0.082095</td>\n",
       "      <td>0.366342</td>\n",
       "      <td>0.850851</td>\n",
       "      <td>0.406275</td>\n",
       "    </tr>\n",
       "    <tr>\n",
       "      <th>5</th>\n",
       "      <td>0.027202</td>\n",
       "      <td>0.247177</td>\n",
       "      <td>0.067144</td>\n",
       "      <td>0.993852</td>\n",
       "      <td>0.970580</td>\n",
       "      <td>0.800258</td>\n",
       "      <td>0.601817</td>\n",
       "      <td>0.764960</td>\n",
       "      <td>0.169225</td>\n",
       "      <td>0.293023</td>\n",
       "    </tr>\n",
       "    <tr>\n",
       "      <th>6</th>\n",
       "      <td>0.524067</td>\n",
       "      <td>0.356624</td>\n",
       "      <td>0.045679</td>\n",
       "      <td>0.983153</td>\n",
       "      <td>0.441355</td>\n",
       "      <td>0.504000</td>\n",
       "      <td>0.323541</td>\n",
       "      <td>0.259745</td>\n",
       "      <td>0.386890</td>\n",
       "      <td>0.832017</td>\n",
       "    </tr>\n",
       "    <tr>\n",
       "      <th>7</th>\n",
       "      <td>0.736747</td>\n",
       "      <td>0.379211</td>\n",
       "      <td>0.013017</td>\n",
       "      <td>0.797405</td>\n",
       "      <td>0.269389</td>\n",
       "      <td>0.582685</td>\n",
       "      <td>0.025551</td>\n",
       "      <td>0.662202</td>\n",
       "      <td>0.387523</td>\n",
       "      <td>0.497074</td>\n",
       "    </tr>\n",
       "    <tr>\n",
       "      <th>8</th>\n",
       "      <td>0.414906</td>\n",
       "      <td>0.350872</td>\n",
       "      <td>0.550978</td>\n",
       "      <td>0.972911</td>\n",
       "      <td>0.112776</td>\n",
       "      <td>0.313259</td>\n",
       "      <td>0.041798</td>\n",
       "      <td>0.738400</td>\n",
       "      <td>0.657512</td>\n",
       "      <td>0.214636</td>\n",
       "    </tr>\n",
       "    <tr>\n",
       "      <th>9</th>\n",
       "      <td>0.416753</td>\n",
       "      <td>0.643842</td>\n",
       "      <td>0.661481</td>\n",
       "      <td>0.170477</td>\n",
       "      <td>0.881652</td>\n",
       "      <td>0.778008</td>\n",
       "      <td>0.133954</td>\n",
       "      <td>0.868917</td>\n",
       "      <td>0.748778</td>\n",
       "      <td>0.798586</td>\n",
       "    </tr>\n",
       "  </tbody>\n",
       "</table>\n",
       "</div>"
      ],
      "text/plain": [
       "          0         1         2         3         4         5         6  \\\n",
       "0  0.330335  0.204649  0.619271  0.299655  0.266827  0.621134  0.529142   \n",
       "1  0.785335  0.853975  0.494237  0.846561  0.079645  0.505246  0.065287   \n",
       "2  0.596745  0.226012  0.106946  0.220306  0.349826  0.467787  0.201743   \n",
       "3  0.386893  0.793637  0.580004  0.162299  0.700752  0.964551  0.500008   \n",
       "4  0.427546  0.436747  0.776559  0.535604  0.953742  0.544208  0.082095   \n",
       "5  0.027202  0.247177  0.067144  0.993852  0.970580  0.800258  0.601817   \n",
       "6  0.524067  0.356624  0.045679  0.983153  0.441355  0.504000  0.323541   \n",
       "7  0.736747  0.379211  0.013017  0.797405  0.269389  0.582685  0.025551   \n",
       "8  0.414906  0.350872  0.550978  0.972911  0.112776  0.313259  0.041798   \n",
       "9  0.416753  0.643842  0.661481  0.170477  0.881652  0.778008  0.133954   \n",
       "\n",
       "          7         8         9  \n",
       "0  0.134580  0.513578  0.184440  \n",
       "1  0.428122  0.096531  0.127160  \n",
       "2  0.640407  0.483070  0.505237  \n",
       "3  0.889520  0.341614  0.567144  \n",
       "4  0.366342  0.850851  0.406275  \n",
       "5  0.764960  0.169225  0.293023  \n",
       "6  0.259745  0.386890  0.832017  \n",
       "7  0.662202  0.387523  0.497074  \n",
       "8  0.738400  0.657512  0.214636  \n",
       "9  0.868917  0.748778  0.798586  "
      ]
     },
     "execution_count": 18,
     "metadata": {},
     "output_type": "execute_result"
    }
   ],
   "source": [
    "device_data"
   ]
  },
  {
   "cell_type": "code",
   "execution_count": 19,
   "id": "enabling-constitutional",
   "metadata": {},
   "outputs": [],
   "source": [
    "knn_cuml = cuNearestNeighbors()\n",
    "knn_cuml.fit(device_data)\n",
    "D_cuml, I_cuml = knn_cuml.kneighbors(device_data, 3)"
   ]
  },
  {
   "cell_type": "code",
   "execution_count": 20,
   "id": "blocked-tobago",
   "metadata": {},
   "outputs": [
    {
     "data": {
      "text/html": [
       "<div>\n",
       "<style scoped>\n",
       "    .dataframe tbody tr th:only-of-type {\n",
       "        vertical-align: middle;\n",
       "    }\n",
       "\n",
       "    .dataframe tbody tr th {\n",
       "        vertical-align: top;\n",
       "    }\n",
       "\n",
       "    .dataframe thead th {\n",
       "        text-align: right;\n",
       "    }\n",
       "</style>\n",
       "<table border=\"1\" class=\"dataframe\">\n",
       "  <thead>\n",
       "    <tr style=\"text-align: right;\">\n",
       "      <th></th>\n",
       "      <th>0</th>\n",
       "      <th>1</th>\n",
       "      <th>2</th>\n",
       "    </tr>\n",
       "  </thead>\n",
       "  <tbody>\n",
       "    <tr>\n",
       "      <th>0</th>\n",
       "      <td>0.000691</td>\n",
       "      <td>0.915151</td>\n",
       "      <td>1.018838</td>\n",
       "    </tr>\n",
       "    <tr>\n",
       "      <th>1</th>\n",
       "      <td>0.000691</td>\n",
       "      <td>0.884102</td>\n",
       "      <td>0.930939</td>\n",
       "    </tr>\n",
       "    <tr>\n",
       "      <th>2</th>\n",
       "      <td>0.000488</td>\n",
       "      <td>0.667324</td>\n",
       "      <td>0.915151</td>\n",
       "    </tr>\n",
       "    <tr>\n",
       "      <th>3</th>\n",
       "      <td>0.000000</td>\n",
       "      <td>0.671808</td>\n",
       "      <td>1.066851</td>\n",
       "    </tr>\n",
       "    <tr>\n",
       "      <th>4</th>\n",
       "      <td>0.000691</td>\n",
       "      <td>0.817937</td>\n",
       "      <td>1.018838</td>\n",
       "    </tr>\n",
       "    <tr>\n",
       "      <th>5</th>\n",
       "      <td>0.000000</td>\n",
       "      <td>1.139232</td>\n",
       "      <td>1.238284</td>\n",
       "    </tr>\n",
       "    <tr>\n",
       "      <th>6</th>\n",
       "      <td>0.000000</td>\n",
       "      <td>0.692844</td>\n",
       "      <td>0.945248</td>\n",
       "    </tr>\n",
       "    <tr>\n",
       "      <th>7</th>\n",
       "      <td>0.000000</td>\n",
       "      <td>0.667324</td>\n",
       "      <td>0.692844</td>\n",
       "    </tr>\n",
       "    <tr>\n",
       "      <th>8</th>\n",
       "      <td>0.000691</td>\n",
       "      <td>0.824889</td>\n",
       "      <td>0.930939</td>\n",
       "    </tr>\n",
       "    <tr>\n",
       "      <th>9</th>\n",
       "      <td>0.000977</td>\n",
       "      <td>0.671808</td>\n",
       "      <td>0.817937</td>\n",
       "    </tr>\n",
       "  </tbody>\n",
       "</table>\n",
       "</div>"
      ],
      "text/plain": [
       "          0         1         2\n",
       "0  0.000691  0.915151  1.018838\n",
       "1  0.000691  0.884102  0.930939\n",
       "2  0.000488  0.667324  0.915151\n",
       "3  0.000000  0.671808  1.066851\n",
       "4  0.000691  0.817937  1.018838\n",
       "5  0.000000  1.139232  1.238284\n",
       "6  0.000000  0.692844  0.945248\n",
       "7  0.000000  0.667324  0.692844\n",
       "8  0.000691  0.824889  0.930939\n",
       "9  0.000977  0.671808  0.817937"
      ]
     },
     "execution_count": 20,
     "metadata": {},
     "output_type": "execute_result"
    }
   ],
   "source": [
    "D_cuml"
   ]
  },
  {
   "cell_type": "code",
   "execution_count": null,
   "id": "clean-guatemala",
   "metadata": {},
   "outputs": [],
   "source": []
  },
  {
   "cell_type": "code",
   "execution_count": null,
   "id": "dried-cloud",
   "metadata": {},
   "outputs": [],
   "source": []
  },
  {
   "cell_type": "code",
   "execution_count": 21,
   "id": "square-acrobat",
   "metadata": {},
   "outputs": [],
   "source": [
    "extracted_files = []\n",
    "for file in os.listdir(os.path.join(ROOTDIR, 'extracted', analyze_identifier, model_identifier, train_identifier)):\n",
    "    if fnmatch.fnmatch(file, f'*{layer}_extracted.pkl'):\n",
    "        extracted_files.append(os.path.join(ROOTDIR, 'extracted', analyze_identifier, model_identifier, train_identifier, file))\n",
    "\n",
    "assert(len(extracted_files) == 1060)\n",
    "\n",
    "s = [re.findall('/\\d+', x) for x in extracted_files]\n",
    "s = [item for sublist in s for item in sublist]\n",
    "dummy_id = [(x.split('/')) for x in s]\n",
    "file_id = [int(x.split('/')[1]) for x in s]\n",
    "sorted_files = [extracted_files[x] for x in np.argsort(file_id)]"
   ]
  },
  {
   "cell_type": "code",
   "execution_count": 47,
   "id": "involved-kitty",
   "metadata": {},
   "outputs": [],
   "source": [
    "\n",
    "# Subsample\n",
    "data = []\n",
    "targets = []\n",
    "epochs = []\n",
    "subepochs = []"
   ]
  },
  {
   "cell_type": "code",
   "execution_count": 29,
   "id": "local-rates",
   "metadata": {},
   "outputs": [
    {
     "name": "stdout",
     "output_type": "stream",
     "text": [
      "/mindhive/evlab/u/Shared/Greta_Eghbal_manifolds/extracted/mftma-exm_per_class=50-proj=False-rand=True-kappa=1e-08-n_t=300-n_rep=5/NN-tree_nclass=64_nobj=64000_nhier=6_beta=0.000161_sigma=5.0_nfeat=936-train_test-fixed/epochs-10_batch-32_lr-0.01_momentum-0.5_init-gaussian_std-1e-06/0000_NN-tree_nclass=64_nobj=64000_nhier=6_beta=0.000161_sigma=5.0_nfeat=936-train_test-fixed-epoch=01-batchidx=15_layer_2_Linear_extracted.pkl\n"
     ]
    }
   ],
   "source": [
    "g = pickle.load(open(sorted_files[0],'rb'))\n",
    "print(sorted_files[0])"
   ]
  },
  {
   "cell_type": "code",
   "execution_count": 30,
   "id": "preceding-curve",
   "metadata": {},
   "outputs": [],
   "source": [
    "t = sorted_files[0].split('batchidx=')[1]\n",
    "batchidx = t.split('_')[0]"
   ]
  },
  {
   "cell_type": "code",
   "execution_count": 31,
   "id": "sudden-cache",
   "metadata": {},
   "outputs": [],
   "source": [
    "t2 = sorted_files[0].split('epoch=')[1]\n",
    "epoch = t2.split('-')[0]"
   ]
  },
  {
   "cell_type": "code",
   "execution_count": 32,
   "id": "consecutive-egypt",
   "metadata": {},
   "outputs": [
    {
     "name": "stdout",
     "output_type": "stream",
     "text": [
      "Running epoch 01, batchidx 15\n"
     ]
    }
   ],
   "source": [
    "print(f'Running epoch {epoch}, batchidx {batchidx}')"
   ]
  },
  {
   "cell_type": "code",
   "execution_count": 33,
   "id": "hungry-charger",
   "metadata": {},
   "outputs": [
    {
     "name": "stdout",
     "output_type": "stream",
     "text": [
      "dict_keys(['layer_2_Linear'])\n",
      "dict_keys(['layer_2_Linear'])\n",
      "dict_keys(['layer_2_Linear'])\n",
      "dict_keys(['layer_2_Linear'])\n",
      "dict_keys(['layer_2_Linear'])\n",
      "dict_keys(['layer_2_Linear'])\n"
     ]
    }
   ],
   "source": [
    "for hier in range(len(g['projection_results'])):\n",
    "    print(g['projection_results'][hier].keys())"
   ]
  },
  {
   "cell_type": "code",
   "execution_count": 40,
   "id": "cordless-feeding",
   "metadata": {},
   "outputs": [
    {
     "data": {
      "text/plain": [
       "2"
      ]
     },
     "execution_count": 40,
     "metadata": {},
     "output_type": "execute_result"
    }
   ],
   "source": [
    "len(g['projection_results'][hier][layer])"
   ]
  },
  {
   "cell_type": "code",
   "execution_count": 42,
   "id": "fundamental-maldives",
   "metadata": {},
   "outputs": [
    {
     "data": {
      "text/plain": [
       "(2, 208, 50)"
      ]
     },
     "execution_count": 42,
     "metadata": {},
     "output_type": "execute_result"
    }
   ],
   "source": [
    "np.asarray(g['projection_results'][hier][layer]).shape"
   ]
  },
  {
   "cell_type": "code",
   "execution_count": 48,
   "id": "painful-bibliography",
   "metadata": {},
   "outputs": [],
   "source": [
    "projs = g['projection_results']\n",
    "hier = np.asarray(projs[hier_idx][layer])"
   ]
  },
  {
   "cell_type": "code",
   "execution_count": 49,
   "id": "arranged-romantic",
   "metadata": {},
   "outputs": [],
   "source": [
    "hier_moved = np.moveaxis(hier, 1, -1)"
   ]
  },
  {
   "cell_type": "code",
   "execution_count": 50,
   "id": "alternate-feature",
   "metadata": {},
   "outputs": [
    {
     "data": {
      "text/plain": [
       "4"
      ]
     },
     "execution_count": 50,
     "metadata": {},
     "output_type": "execute_result"
    }
   ],
   "source": [
    "hier_moved.shape[0]"
   ]
  },
  {
   "cell_type": "code",
   "execution_count": 51,
   "id": "fourth-prescription",
   "metadata": {},
   "outputs": [
    {
     "name": "stdout",
     "output_type": "stream",
     "text": [
      "(4, 50, 208)\n",
      "(200, 208)\n"
     ]
    }
   ],
   "source": [
    "# reshape into # classes, # samples, # features\n",
    "hier_moved = np.moveaxis(hier, 1, -1)\n",
    "print(hier_moved.shape)\n",
    "\n",
    "# flatten samples\n",
    "hier_flat = np.reshape(hier_moved, [hier_moved.shape[0]*hier_moved.shape[1], hier_moved.shape[2]])\n",
    "print(hier_flat.shape)"
   ]
  },
  {
   "cell_type": "code",
   "execution_count": 38,
   "id": "imposed-cookbook",
   "metadata": {},
   "outputs": [
    {
     "name": "stdout",
     "output_type": "stream",
     "text": [
      "Sample 1 from class 1: [ 0.00030159 -0.00033931]\n",
      "Sample 2 from class 1: [-0.00019432 -0.00047235]\n",
      "Sample 1 from class 2: [-9.4974421e-05  4.1729183e-04]\n",
      "Sample 2 from class 2: [-0.00046068 -0.00047937]\n",
      "Sample 1 flattened: [ 0.00030159 -0.00033931]\n",
      "Sample 2 flattened: [-0.00019432 -0.00047235]\n",
      "Sample 51 flattened: [-9.4974421e-05  4.1729183e-04]\n",
      "Sample 52 flattened: [-0.00046068 -0.00047937]\n"
     ]
    }
   ],
   "source": [
    "# test flattening\n",
    "print(f'Sample 1 from class 1: {hier_moved[0,0,:2]}')\n",
    "print(f'Sample 2 from class 1: {hier_moved[0,1,:2]}')\n",
    "\n",
    "print(f'Sample 1 from class 2: {hier_moved[1,0,:2]}')\n",
    "print(f'Sample 2 from class 2: {hier_moved[1,1,:2]}')\n",
    "\n",
    "print(f'Sample 1 flattened: {hier_flat[0][:2]}')\n",
    "print(f'Sample 2 flattened: {hier_flat[1][:2]}')\n",
    "print(f'Sample 51 flattened: {hier_flat[50][:2]}')\n",
    "print(f'Sample 52 flattened: {hier_flat[51][:2]}')\n",
    "# ie the first 50 samples (rows) correspond to class 1, the next 50 rows for class 2 etc"
   ]
  },
  {
   "cell_type": "code",
   "execution_count": 52,
   "id": "champion-growth",
   "metadata": {},
   "outputs": [],
   "source": [
    "targets_array = np.asarray([[(i+1)]*hier_moved.shape[1] for i in range(hier_moved.shape[0])])"
   ]
  },
  {
   "cell_type": "code",
   "execution_count": 53,
   "id": "fatal-checkout",
   "metadata": {},
   "outputs": [],
   "source": [
    "targets_flatten = targets_array.ravel()"
   ]
  },
  {
   "cell_type": "code",
   "execution_count": 54,
   "id": "loving-license",
   "metadata": {},
   "outputs": [],
   "source": [
    "sample_idx = random.sample(range(hier_flat.shape[0]), num_subsamples)\n",
    "\n",
    "subsampled_data = hier_flat[sample_idx, :]\n",
    "subsampled_targets = targets_flatten[sample_idx]\n",
    "\n",
    "assert(len(subsampled_data) == num_subsamples)"
   ]
  },
  {
   "cell_type": "code",
   "execution_count": 58,
   "id": "equipped-correspondence",
   "metadata": {},
   "outputs": [
    {
     "data": {
      "text/plain": [
       "(100, 208)"
      ]
     },
     "execution_count": 58,
     "metadata": {},
     "output_type": "execute_result"
    }
   ],
   "source": [
    "subsampled_data.shape"
   ]
  },
  {
   "cell_type": "code",
   "execution_count": 55,
   "id": "dress-preserve",
   "metadata": {},
   "outputs": [],
   "source": [
    "data.append(subsampled_data)\n",
    "targets.append(targets_flatten)\n",
    "epochs.append(epoch*num_subsamples)\n",
    "subepochs.append(batchidx*num_subsamples)"
   ]
  },
  {
   "cell_type": "code",
   "execution_count": 56,
   "id": "average-interpretation",
   "metadata": {},
   "outputs": [
    {
     "data": {
      "text/plain": [
       "1"
      ]
     },
     "execution_count": 56,
     "metadata": {},
     "output_type": "execute_result"
    }
   ],
   "source": [
    "len(data)"
   ]
  },
  {
   "cell_type": "code",
   "execution_count": 62,
   "id": "wireless-motivation",
   "metadata": {},
   "outputs": [],
   "source": [
    "production_time = list(range(1, len(epoch))) \n",
    "time = list(range(1, len(sorted_files)))\n",
    "rel_time = np.divide(production_time,max(production_time))"
   ]
  },
  {
   "cell_type": "code",
   "execution_count": 67,
   "id": "lesser-memory",
   "metadata": {},
   "outputs": [],
   "source": [
    "device_data = cudf.DataFrame(data[0])"
   ]
  },
  {
   "cell_type": "code",
   "execution_count": 68,
   "id": "chief-swedish",
   "metadata": {},
   "outputs": [],
   "source": [
    "knn_cuml = cuNearestNeighbors()\n",
    "knn_cuml.fit(device_data)\n",
    "D_cuml, I_cuml = knn_cuml.kneighbors(device_data, 5)"
   ]
  },
  {
   "cell_type": "code",
   "execution_count": 69,
   "id": "planned-mongolia",
   "metadata": {},
   "outputs": [
    {
     "data": {
      "text/html": [
       "<div>\n",
       "<style scoped>\n",
       "    .dataframe tbody tr th:only-of-type {\n",
       "        vertical-align: middle;\n",
       "    }\n",
       "\n",
       "    .dataframe tbody tr th {\n",
       "        vertical-align: top;\n",
       "    }\n",
       "\n",
       "    .dataframe thead th {\n",
       "        text-align: right;\n",
       "    }\n",
       "</style>\n",
       "<table border=\"1\" class=\"dataframe\">\n",
       "  <thead>\n",
       "    <tr style=\"text-align: right;\">\n",
       "      <th></th>\n",
       "      <th>0</th>\n",
       "      <th>1</th>\n",
       "      <th>2</th>\n",
       "      <th>3</th>\n",
       "      <th>4</th>\n",
       "    </tr>\n",
       "  </thead>\n",
       "  <tbody>\n",
       "    <tr>\n",
       "      <th>0</th>\n",
       "      <td>0.000003</td>\n",
       "      <td>0.003273</td>\n",
       "      <td>0.003784</td>\n",
       "      <td>0.004865</td>\n",
       "      <td>0.005069</td>\n",
       "    </tr>\n",
       "    <tr>\n",
       "      <th>1</th>\n",
       "      <td>0.000000</td>\n",
       "      <td>0.003541</td>\n",
       "      <td>0.004490</td>\n",
       "      <td>0.004490</td>\n",
       "      <td>0.005092</td>\n",
       "    </tr>\n",
       "    <tr>\n",
       "      <th>2</th>\n",
       "      <td>0.000000</td>\n",
       "      <td>0.003792</td>\n",
       "      <td>0.004923</td>\n",
       "      <td>0.005139</td>\n",
       "      <td>0.005253</td>\n",
       "    </tr>\n",
       "    <tr>\n",
       "      <th>3</th>\n",
       "      <td>0.000000</td>\n",
       "      <td>0.003153</td>\n",
       "      <td>0.003597</td>\n",
       "      <td>0.004485</td>\n",
       "      <td>0.004545</td>\n",
       "    </tr>\n",
       "    <tr>\n",
       "      <th>4</th>\n",
       "      <td>0.000000</td>\n",
       "      <td>0.003266</td>\n",
       "      <td>0.003492</td>\n",
       "      <td>0.004223</td>\n",
       "      <td>0.004861</td>\n",
       "    </tr>\n",
       "    <tr>\n",
       "      <th>...</th>\n",
       "      <td>...</td>\n",
       "      <td>...</td>\n",
       "      <td>...</td>\n",
       "      <td>...</td>\n",
       "      <td>...</td>\n",
       "    </tr>\n",
       "    <tr>\n",
       "      <th>95</th>\n",
       "      <td>0.000000</td>\n",
       "      <td>0.003404</td>\n",
       "      <td>0.004921</td>\n",
       "      <td>0.005480</td>\n",
       "      <td>0.006349</td>\n",
       "    </tr>\n",
       "    <tr>\n",
       "      <th>96</th>\n",
       "      <td>0.000004</td>\n",
       "      <td>0.003431</td>\n",
       "      <td>0.004733</td>\n",
       "      <td>0.005551</td>\n",
       "      <td>0.005986</td>\n",
       "    </tr>\n",
       "    <tr>\n",
       "      <th>97</th>\n",
       "      <td>0.000000</td>\n",
       "      <td>0.003873</td>\n",
       "      <td>0.004019</td>\n",
       "      <td>0.005366</td>\n",
       "      <td>0.005694</td>\n",
       "    </tr>\n",
       "    <tr>\n",
       "      <th>98</th>\n",
       "      <td>0.000000</td>\n",
       "      <td>0.004928</td>\n",
       "      <td>0.005246</td>\n",
       "      <td>0.005682</td>\n",
       "      <td>0.005983</td>\n",
       "    </tr>\n",
       "    <tr>\n",
       "      <th>99</th>\n",
       "      <td>0.000000</td>\n",
       "      <td>0.003701</td>\n",
       "      <td>0.003709</td>\n",
       "      <td>0.006291</td>\n",
       "      <td>0.006370</td>\n",
       "    </tr>\n",
       "  </tbody>\n",
       "</table>\n",
       "<p>100 rows × 5 columns</p>\n",
       "</div>"
      ],
      "text/plain": [
       "           0         1         2         3         4\n",
       "0   0.000003  0.003273  0.003784  0.004865  0.005069\n",
       "1   0.000000  0.003541  0.004490  0.004490  0.005092\n",
       "2   0.000000  0.003792  0.004923  0.005139  0.005253\n",
       "3   0.000000  0.003153  0.003597  0.004485  0.004545\n",
       "4   0.000000  0.003266  0.003492  0.004223  0.004861\n",
       "..       ...       ...       ...       ...       ...\n",
       "95  0.000000  0.003404  0.004921  0.005480  0.006349\n",
       "96  0.000004  0.003431  0.004733  0.005551  0.005986\n",
       "97  0.000000  0.003873  0.004019  0.005366  0.005694\n",
       "98  0.000000  0.004928  0.005246  0.005682  0.005983\n",
       "99  0.000000  0.003701  0.003709  0.006291  0.006370\n",
       "\n",
       "[100 rows x 5 columns]"
      ]
     },
     "execution_count": 69,
     "metadata": {},
     "output_type": "execute_result"
    }
   ],
   "source": [
    "D_cuml"
   ]
  },
  {
   "cell_type": "code",
   "execution_count": 78,
   "id": "regulated-video",
   "metadata": {},
   "outputs": [
    {
     "data": {
      "text/plain": [
       "<matplotlib.image.AxesImage at 0x2abc2f96b510>"
      ]
     },
     "execution_count": 78,
     "metadata": {},
     "output_type": "execute_result"
    },
    {
     "data": {
      "image/png": "[encoded data removed]",
      "text/plain": [
       "<Figure size 432x288 with 1 Axes>"
      ]
     },
     "metadata": {
      "needs_background": "light"
     },
     "output_type": "display_data"
    }
   ],
   "source": [
    "plt.imshow(D_cuml.as_matrix(),aspect='auto')"
   ]
  },
  {
   "cell_type": "code",
   "execution_count": null,
   "id": "colored-quick",
   "metadata": {},
   "outputs": [],
   "source": []
  },
  {
   "cell_type": "code",
   "execution_count": null,
   "id": "searching-findings",
   "metadata": {},
   "outputs": [],
   "source": [
    "with open(stimuli_file, 'wb') as f:\n",
    "    pickle.dump(stimuli, f) "
   ]
  },
  {
   "cell_type": "code",
   "execution_count": 143,
   "id": "addressed-biography",
   "metadata": {},
   "outputs": [],
   "source": []
  },
  {
   "cell_type": "code",
   "execution_count": null,
   "id": "oriental-python",
   "metadata": {},
   "outputs": [],
   "source": [
    "if __name__ == '__main__':\n",
    "    main()\n"
   ]
  }
 ],
 "metadata": {
  "kernelspec": {
   "display_name": "Python 3",
   "language": "python",
   "name": "python3"
  },
  "language_info": {
   "codemirror_mode": {
    "name": "ipython",
    "version": 3
   },
   "file_extension": ".py",
   "mimetype": "text/x-python",
   "name": "python",
   "nbconvert_exporter": "python",
   "pygments_lexer": "ipython3",
   "version": "3.7.10"
  }
 },
 "nbformat": 4,
 "nbformat_minor": 5
}
