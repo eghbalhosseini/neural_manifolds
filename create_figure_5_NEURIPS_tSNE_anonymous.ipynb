{
 "cells": [
  {
   "cell_type": "code",
   "execution_count": 1,
   "metadata": {},
   "outputs": [
    {
     "name": "stderr",
     "output_type": "stream",
     "text": [
      "/om/user/ehoseini/miniconda3/lib/python3.7/site-packages/torch/__init__.py:422: UserWarning: torch.set_deterministic is deprecated and will be removed in a future release. Please use torch.use_deterministic_algorithms instead\n",
      "  \"torch.set_deterministic is deprecated and will be removed in a future \"\n"
     ]
    }
   ],
   "source": [
    "from tsnecuda import TSNE\n",
    "import pandas as pd\n",
    "import numpy as np\n",
    "import pickle\n",
    "import sys \n",
    "import os \n",
    "import torch \n",
    "%matplotlib inline\n",
    "import matplotlib.cm as cm\n",
    "import matplotlib.pyplot as plt \n",
    "import seaborn as sns\n",
    "from tqdm import tqdm_notebook\n",
    "\n",
    "device =torch.device(\"cuda:0\" if torch.cuda.is_available() else \"cpu\")\n",
    "try :\n",
    "    torch.set_deterministic(True)\n",
    "except:\n",
    "    pass\n",
    "torch.set_printoptions(precision=10)"
   ]
  },
  {
   "cell_type": "code",
   "execution_count": 2,
   "metadata": {},
   "outputs": [],
   "source": [
    "save_dir = '/mindhive/evlab/u/Shared/Greta_Eghbal_manifolds/extracted/'\n",
    "model_identifier= 'NN-tree_nclass=64_nobj=64000_nhier=6_beta=0.000161_sigma=5.0_nfeat=936-train_test-fixed_data_figure_5_KNN.pkl'\n",
    "d_fig_5=pickle.load(open(os.path.join(save_dir,model_identifier),'rb'))\n",
    "x_bar=d_fig_5['x_bar']\n",
    "data=d_fig_5['data']\n",
    "accuracies=d_fig_5['accuracies']\n",
    "epoch_bar=d_fig_5['epoch_bar']\n",
    "epoch_batch=d_fig_5['epoch_batch']"
   ]
  },
  {
   "cell_type": "markdown",
   "metadata": {},
   "source": [
    "# tSNE when its done on each epoch "
   ]
  },
  {
   "cell_type": "code",
   "execution_count": null,
   "metadata": {},
   "outputs": [],
   "source": [
    "layers = [\"layer_1_Linear\",\"layer_2_Linear\", \"layer_3_Linear\"]\n",
    "for idx,layer in tqdm_notebook(enumerate(layers)):\n",
    "    fig, axes = plt.subplots(6, 10, figsize=(28*10/6,28),dpi=75,frameon=False)\n",
    "    plt.suptitle(f'layer={layer}')\n",
    "    for hier_idx in tqdm_notebook(np.arange(6)):        \n",
    "        feat=torch.tensor(data['data'])\n",
    "        labels=torch.tensor(np.ravel(np.stack(data['targets'])))\n",
    "        all_epochs=np.ravel(data['epochs']).astype(int)\n",
    "        num_colors=labels.unique().shape[0]\n",
    "        h0=cm.get_cmap('inferno',num_colors+int(np.ceil(num_colors/10)))\n",
    "        line_cols=np.flipud(h0(np.arange(num_colors)/num_colors))\n",
    "        all_col=np.asarray([line_cols[x-1,:] for x in labels])\n",
    "        for epoch in range(10):\n",
    "            epoch_fix=epoch+1\n",
    "            epoch_idx=np.where(all_epochs==epoch_fix)[0]\n",
    "            feat_epoch=feat[epoch_idx,:]\n",
    "            selections=np.random.choice(feat_epoch.shape[0],250,replace=False);\n",
    "            feat_selection=feat_epoch[selections,:]\n",
    "            ax=axes[5-hier_idx,epoch]\n",
    "            X_embed_early = TSNE(n_components=2, perplexity=30, learning_rate=10).fit_transform(feat_selection)\n",
    "            labels_early=labels[epoch_idx]\n",
    "            label_selection=labels_early[selections]\n",
    "            all_col_early=all_col[epoch_idx,:]\n",
    "            all_col_selection=all_col_early[selections,:]\n",
    "            ax.scatter(X_embed_early[:,0],X_embed_early[:,1],c=all_col_selection,s=25,alpha=.7)\n",
    "            ax.spines['right'].set_visible(False)\n",
    "            ax.spines['top'].set_visible(False)\n",
    "            ax.spines['left'].set_visible(False)\n",
    "            ax.spines['bottom'].set_visible(False)\n",
    "            ax.tick_params(\n",
    "                    axis='x',          # changes apply to the x-axis\n",
    "                    which='both',      # both major and minor ticks are affected\n",
    "                    bottom=False,      # ticks along the bottom edge are off\n",
    "                    top=False,         # ticks along the top edge are off\n",
    "                    labelbottom=False) \n",
    "            ax.tick_params(\n",
    "                    axis='y',          # changes apply to the x-axis\n",
    "                    which='both',      # both major and minor ticks are affected\n",
    "                    bottom=False,      # ticks along the bottom edge are off\n",
    "                    top=False,         # ticks along the top edge are off\n",
    "                    labelbottom=False) \n",
    "            ax.set_xlim((X_embed_early[:,0].min()+.1*X_embed_early[:,0].min(),X_embed_early[:,0].max()+.1*X_embed_early[:,0].max()))\n",
    "            ax.set_ylim((X_embed_early[:,1].min()+.1*X_embed_early[:,1].min(),X_embed_early[:,1].max()+.1*X_embed_early[:,1].max()))\n",
    "            ax.set_axis_off()\n",
    "    plt.tight_layout() "
   ]
  },
  {
   "cell_type": "code",
   "execution_count": null,
   "metadata": {},
   "outputs": [],
   "source": []
  }
 ],
 "metadata": {
  "kernelspec": {
   "display_name": "Python (base)",
   "language": "python",
   "name": "base"
  },
  "language_info": {
   "codemirror_mode": {
    "name": "ipython",
    "version": 3
   },
   "file_extension": ".py",
   "mimetype": "text/x-python",
   "name": "python",
   "nbconvert_exporter": "python",
   "pygments_lexer": "ipython3",
   "version": "3.7.9"
  }
 },
 "nbformat": 4,
 "nbformat_minor": 5
}
