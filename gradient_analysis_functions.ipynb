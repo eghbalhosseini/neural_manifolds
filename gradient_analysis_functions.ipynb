{
 "cells": [
  {
   "cell_type": "code",
   "execution_count": 2,
   "metadata": {},
   "outputs": [],
   "source": [
    "import numpy as np\n",
    "import sys\n",
    "import os\n",
    "import glob\n",
    "import getpass\n",
    "import argparse\n",
    "import pickle\n",
    "import matplotlib.cm as cm\n",
    "import pandas as pd\n",
    "import matplotlib.pyplot as plt\n",
    "import collections \n",
    "from utils.analysis_utils import analyze_pool\n",
    "def makehash():\n",
    "    return collections.defaultdict(makehash)\n",
    "import fnmatch \n",
    "import torch \n",
    "from tqdm import tqdm \n",
    "from utils import save_dir, analyze_dir, results_dir,train_pool\n",
    "import scipy.spatial.distance as dist\n",
    "from tqdm import tqdm\n",
    "import re\n",
    "from sklearn.manifold import TSNE\n",
    "import itertools \n",
    "\n",
    "\n",
    "def moving_average(x,w):\n",
    "    w_min=1#int(np.floor(w/2))\n",
    "    return pd.Series(x).rolling(w, min_periods=w_min).mean()\n",
    "av_window=10\n",
    "\n",
    "def NormalizeData(data):\n",
    "    return (data - np.min(data)) / (np.max(data) - np.min(data))"
   ]
  },
  {
   "cell_type": "code",
   "execution_count": 3,
   "metadata": {},
   "outputs": [],
   "source": [
    "model_identifier = 'NN-tree_nclass=64_nobj=64000_nhier=6_beta=0.000161_sigma=5.0_nfeat=936-train_test-fixed'\n",
    "train_identifier = 'epochs-10_batch-32_lr-0.01_momentum-0.5_init-gaussian_std-1e-06'\n",
    "analyze_identifier='mftma-exm_per_class=50-proj=False-rand=True-kappa=1e-08-n_t=300-n_rep=5'\n",
    "#epochs-10_batch-32_lr-0.001_momentum-0.5_init-gaussian_std-0.0001\n",
    "#                           epochs-10_batch-32_lr-0.002_momentum-0.6_init-gaussian_std-1e-05 \\\n",
    "#                           epochs-10_batch-32_lr-0.01_momentum-0.5_init-gaussian_std-1e-06 "
   ]
  },
  {
   "cell_type": "code",
   "execution_count": 4,
   "metadata": {},
   "outputs": [],
   "source": [
    "# load training data \n",
    "training_files=[]\n",
    "for file in os.listdir(os.path.join(save_dir,model_identifier,train_identifier)):\n",
    "    if fnmatch.fnmatch(file, '*.pth'):\n",
    "            training_files.append(os.path.join(save_dir,model_identifier,train_identifier,file))"
   ]
  },
  {
   "cell_type": "markdown",
   "metadata": {},
   "source": [
    "Load extracted gradient data (from extraction script!)"
   ]
  },
  {
   "cell_type": "code",
   "execution_count": 6,
   "metadata": {},
   "outputs": [],
   "source": [
    "grad_pkl_files = []\n",
    "for file in os.listdir(os.path.join(save_dir,analyze_identifier,model_identifier,train_identifier)):\n",
    "    if fnmatch.fnmatch(file, '*gradient_data_v3.pkl'):\n",
    "        grad_pkl_files.append(os.path.join(save_dir,analyze_identifier,model_identifier,train_identifier,file))\n",
    "s = [re.findall('/\\d+', x) for x in grad_pkl_files]\n",
    "s = [item for sublist in s for item in sublist]\n",
    "dummy_id = [(x.split('/')) for x in s]\n",
    "file_id = [int(x.split('/')[1]) for x in s]\n",
    "sorted_files = [grad_pkl_files[x] for x in np.argsort(file_id)]\n",
    "grad_pkl_files=sorted_files"
   ]
  },
  {
   "cell_type": "code",
   "execution_count": null,
   "metadata": {},
   "outputs": [],
   "source": []
  },
  {
   "cell_type": "code",
   "execution_count": 8,
   "metadata": {},
   "outputs": [
    {
     "name": "stderr",
     "output_type": "stream",
     "text": [
      "ERROR:root:ERROR: not a MATLAB datatype: <HDF5 dataset \"data\": shape (128252,), type \"|u1\">, (uint8)\n",
      "ERROR:root:ERROR: not a MATLAB datatype: <HDF5 dataset \"ir\": shape (128252,), type \"<u8\">, (uint64)\n",
      "ERROR:root:ERROR: not a MATLAB datatype: <HDF5 dataset \"jc\": shape (64128,), type \"<u8\">, (uint64)\n",
      "ERROR:root:ERROR: MATLAB type not supported: graph, (uint32)\n",
      "ERROR:root:ERROR: MATLAB type not supported: graph, (uint32)\n"
     ]
    }
   ],
   "source": [
    "params = train_pool[model_identifier]()\n",
    "params.load_dataset()\n",
    "transfo_mat=params.dataset.transformation_mats"
   ]
  },
  {
   "cell_type": "markdown",
   "metadata": {},
   "source": [
    "Make a transformation matrix that does not average across num examples"
   ]
  },
  {
   "cell_type": "code",
   "execution_count": 9,
   "metadata": {},
   "outputs": [],
   "source": [
    "tiled_transfo_mat=[np.tile(x,(1,50)).reshape(-1,x.shape[1]) for x in transfo_mat]\n",
    "w=[np.apply_along_axis(np.where,1,x).reshape([-1,1])+1 for x in tiled_transfo_mat]"
   ]
  },
  {
   "cell_type": "code",
   "execution_count": 10,
   "metadata": {},
   "outputs": [],
   "source": [
    "w_fixed=[[(np.arange(w[0].shape[0])+1).reshape(-1,1)],w]\n",
    "within_class_ids = [item for sublist in w_fixed for item in sublist]\n",
    "between_class_ids=[within_class_ids[1:],[within_class_ids[0]*0+1]]\n",
    "between_class_ids = [item for sublist in between_class_ids for item in sublist]"
   ]
  },
  {
   "cell_type": "code",
   "execution_count": 11,
   "metadata": {},
   "outputs": [],
   "source": [
    "withins=[]\n",
    "betweens=[]\n",
    "for k in range(len(between_class_ids)):\n",
    "    temp=np.matmul(within_class_ids[k],within_class_ids[k].transpose())\n",
    "    temp1=np.repeat(np.expand_dims(np.diag(temp),axis=0),temp.shape[0],axis=0)\n",
    "    within_class=temp==temp1;\n",
    "    withins.append(within_class)\n",
    "    temp=np.matmul(between_class_ids[k],between_class_ids[k].transpose())\n",
    "    temp1=np.repeat(np.expand_dims(np.diag(temp),axis=0),temp.shape[0],axis=0)\n",
    "    between_class=temp==temp1;\n",
    "    betweens.append(between_class)\n",
    "\n",
    "hier_within_class=[]\n",
    "hier_between_class=[]\n",
    "for idx, _ in enumerate(range(len(betweens)-1)):\n",
    "    A=withins[idx]==(~withins[idx+1])\n",
    "    hier_within_class.append(A)\n",
    "    \n",
    "    B=betweens[idx]==(~betweens[idx+1])\n",
    "    hier_between_class.append(B)"
   ]
  },
  {
   "cell_type": "markdown",
   "metadata": {},
   "source": [
    "Extract gradient data for a particular layer across all time points"
   ]
  },
  {
   "cell_type": "code",
   "execution_count": 12,
   "metadata": {},
   "outputs": [
    {
     "name": "stderr",
     "output_type": "stream",
     "text": [
      "1060it [03:05,  5.72it/s]\n"
     ]
    }
   ],
   "source": [
    "all_grad_within=[]\n",
    "all_grad_between=[]\n",
    "all_grad_data=[]\n",
    "for idx,file in tqdm(enumerate(grad_pkl_files)):\n",
    "    g=pickle.load(open(file,'rb'))\n",
    "    e=np.asarray(g['results'][0]['layer_3_Linear']).squeeze()\n",
    "    all_grad_data.append(e)\n",
    "  "
   ]
  },
  {
   "cell_type": "code",
   "execution_count": 46,
   "metadata": {},
   "outputs": [
    {
     "data": {
      "text/plain": [
       "(64, 50, 64)"
      ]
     },
     "execution_count": 46,
     "metadata": {},
     "output_type": "execute_result"
    }
   ],
   "source": []
  },
  {
   "cell_type": "code",
   "execution_count": 235,
   "metadata": {},
   "outputs": [
    {
     "name": "stderr",
     "output_type": "stream",
     "text": [
      "1060it [01:42, 10.37it/s]\n"
     ]
    }
   ],
   "source": [
    "all_grad_data4=[]\n",
    "for idx,file in tqdm(enumerate(grad_pkl_files)):\n",
    "    g=pickle.load(open(file,'rb'))\n",
    "    e=np.asarray(g['results'][1]['layer_1_Linear']).squeeze()\n",
    "    all_grad_data4.append(e)"
   ]
  },
  {
   "cell_type": "markdown",
   "metadata": {},
   "source": [
    "Find indices for all pairwise difference comparisons among leafy branches!"
   ]
  },
  {
   "cell_type": "code",
   "execution_count": 13,
   "metadata": {},
   "outputs": [
    {
     "data": {
      "text/plain": [
       "50"
      ]
     },
     "execution_count": 13,
     "metadata": {},
     "output_type": "execute_result"
    }
   ],
   "source": [
    "analyze_params = analyze_pool[analyze_identifier]()\n",
    "analyze_params.exm_per_class"
   ]
  },
  {
   "cell_type": "code",
   "execution_count": 14,
   "metadata": {},
   "outputs": [
    {
     "data": {
      "text/plain": [
       "1275"
      ]
     },
     "execution_count": 14,
     "metadata": {},
     "output_type": "execute_result"
    }
   ],
   "source": [
    "a = list(range(50))\n",
    "combs=list(itertools.combinations_with_replacement(a, r=2))\n",
    "len(combs)"
   ]
  },
  {
   "cell_type": "code",
   "execution_count": 15,
   "metadata": {},
   "outputs": [],
   "source": [
    "combs_1=list(itertools.combinations(a, r=2))\n",
    "combs_1=[(x[1],x[0]) for x in combs_1]\n"
   ]
  },
  {
   "cell_type": "code",
   "execution_count": 16,
   "metadata": {},
   "outputs": [],
   "source": [
    "# make sure we also get the reversed indices! because combinations does not do asymmetric pairs\n",
    "all_combs=[combs,combs_1]\n",
    "all_combs = [item for sublist in all_combs for item in sublist]\n",
    "all_combs_mat=np.asarray(all_combs)"
   ]
  },
  {
   "cell_type": "code",
   "execution_count": 17,
   "metadata": {},
   "outputs": [
    {
     "data": {
      "text/plain": [
       "16"
      ]
     },
     "execution_count": 17,
     "metadata": {},
     "output_type": "execute_result"
    }
   ],
   "source": [
    "len(g['results'][2]['layer_1_Linear'])"
   ]
  },
  {
   "cell_type": "code",
   "execution_count": 18,
   "metadata": {},
   "outputs": [],
   "source": [
    "e_f=np.reshape(all_grad_data[1],[-1,all_grad_data[1].shape[2]])"
   ]
  },
  {
   "cell_type": "code",
   "execution_count": 19,
   "metadata": {},
   "outputs": [],
   "source": [
    "all_combs=[(x[0],x[1]+50) for x in all_combs]\n"
   ]
  },
  {
   "cell_type": "code",
   "execution_count": 20,
   "metadata": {},
   "outputs": [],
   "source": [
    "layer_names = params.get_layer_names()"
   ]
  },
  {
   "cell_type": "code",
   "execution_count": 21,
   "metadata": {},
   "outputs": [
    {
     "data": {
      "text/plain": [
       "50"
      ]
     },
     "execution_count": 21,
     "metadata": {},
     "output_type": "execute_result"
    }
   ],
   "source": [
    "transfo=tiled_transfo_mat[0]\n",
    "int(np.unique(transfo.sum(axis=0)))"
   ]
  },
  {
   "cell_type": "code",
   "execution_count": 22,
   "metadata": {},
   "outputs": [],
   "source": [
    "P12=e_f[np.where(tiled_transfo_mat[1][:,0]==1),:].squeeze()"
   ]
  },
  {
   "cell_type": "code",
   "execution_count": 23,
   "metadata": {},
   "outputs": [],
   "source": [
    "p12_diff=[np.diff(P12[x,:],axis=0) for x in all_combs]"
   ]
  },
  {
   "cell_type": "code",
   "execution_count": 24,
   "metadata": {},
   "outputs": [
    {
     "data": {
      "text/plain": [
       "array([ 4.5745249e-13,  4.5571012e-13, -5.5948085e-13, -5.5851282e-13,\n",
       "       -5.5859223e-13, -5.5814148e-13, -5.5821688e-13, -5.5993198e-13,\n",
       "       -5.5852469e-13, -5.5829684e-13, -5.6127303e-13,  7.2180293e-13,\n",
       "       -5.5827809e-13,  7.0301100e-13,  6.6548329e-13, -5.5935248e-13,\n",
       "        2.4660487e-13,  1.2391169e-12,  2.6478320e-13, -5.5879525e-13,\n",
       "       -5.5815476e-13, -5.6068876e-13,  2.2577475e-13, -5.5968544e-13,\n",
       "       -5.5778591e-13,  4.1047387e-13, -5.5796264e-13,  7.5038624e-13,\n",
       "       -5.5933448e-13,  4.7272022e-13,  5.8193836e-13, -5.5765478e-13,\n",
       "       -5.5774336e-13,  2.0217825e-12,  1.7593418e-12,  1.8220406e-12,\n",
       "        6.9538104e-13, -5.5735527e-13,  1.7667979e-12,  6.9848684e-13,\n",
       "        3.6336754e-13, -5.6094230e-13, -5.5691758e-13,  6.1860510e-13,\n",
       "       -5.5657925e-13, -5.6006225e-13, -5.5800796e-13, -5.5675766e-13,\n",
       "       -5.6100854e-13, -5.5770796e-13,  6.6868830e-13, -5.5718543e-13,\n",
       "       -5.6098230e-13,  1.9423373e-12, -5.6010632e-13, -5.5830644e-13,\n",
       "       -5.5588384e-13, -5.5892552e-13, -5.5874185e-13,  5.4106898e-13,\n",
       "       -5.5887418e-13,  6.5934064e-13, -5.5817639e-13,  4.7643405e-13],\n",
       "      dtype=float32)"
      ]
     },
     "execution_count": 24,
     "metadata": {},
     "output_type": "execute_result"
    }
   ],
   "source": [
    "np.mean(np.stack(p12_diff).squeeze(),axis=0)"
   ]
  },
  {
   "cell_type": "code",
   "execution_count": 25,
   "metadata": {},
   "outputs": [],
   "source": [
    "branch_diffs=[]\n",
    "for branch in tiled_transfo_mat[1].transpose(): # for each single \"over\" branch, iterate through the categories\n",
    "    P12=e_f[np.where(branch==1),:].squeeze() # extract each category\n",
    "    p12_diff=[np.diff(P12[x,:],axis=0) for x in all_combs] # find all pairwise differences between all samples in cat 1 and cat 2 (the leaf branches)\n",
    "    branch_diffs.append(np.mean(np.stack(p12_diff).squeeze(),axis=0)) # take mean over all the pairwise diffs"
   ]
  },
  {
   "cell_type": "code",
   "execution_count": 26,
   "metadata": {},
   "outputs": [
    {
     "data": {
      "text/plain": [
       "(64,)"
      ]
     },
     "execution_count": 26,
     "metadata": {},
     "output_type": "execute_result"
    }
   ],
   "source": [
    "branch_diffs[1].shape"
   ]
  },
  {
   "cell_type": "code",
   "execution_count": null,
   "metadata": {},
   "outputs": [],
   "source": []
  },
  {
   "cell_type": "code",
   "execution_count": null,
   "metadata": {},
   "outputs": [],
   "source": []
  },
  {
   "cell_type": "code",
   "execution_count": 31,
   "metadata": {},
   "outputs": [
    {
     "data": {
      "text/plain": [
       "2500"
      ]
     },
     "execution_count": 31,
     "metadata": {},
     "output_type": "execute_result"
    }
   ],
   "source": [
    "len(all_combs)"
   ]
  },
  {
   "cell_type": "code",
   "execution_count": null,
   "metadata": {},
   "outputs": [],
   "source": []
  },
  {
   "cell_type": "code",
   "execution_count": 28,
   "metadata": {},
   "outputs": [],
   "source": [
    "e_f_list=[np.reshape(x,[-1,x.shape[2]]) for x in all_grad_data]"
   ]
  },
  {
   "cell_type": "markdown",
   "metadata": {},
   "source": [
    "Compute all pairwise differences across 32 level across all time points!! :)"
   ]
  },
  {
   "cell_type": "code",
   "execution_count": 32,
   "metadata": {},
   "outputs": [
    {
     "name": "stderr",
     "output_type": "stream",
     "text": [
      "1060it [01:32, 11.42it/s]\n"
     ]
    }
   ],
   "source": [
    "all_branch_diffs=[]\n",
    "for _,time_point in tqdm(enumerate(e_f_list)):\n",
    "    branch_diffs=[]\n",
    "    for branch in tiled_transfo_mat[1].transpose(): # for each single \"over\" branch, iterate through the categories\n",
    "        P12=time_point[np.where(branch==1),:].squeeze() # extract each category\n",
    "        p12_diff=[np.diff(P12[x,:],axis=0) for x in all_combs[1:100]] # find all pairwise differences between all samples in cat 1 and cat 2 (the leaf branches)\n",
    "        branch_diffs.append(np.mean(np.stack(p12_diff).squeeze(),axis=0)) # take mean over all the pairwise diffs\n",
    "    all_branch_diffs.append(branch_diffs)"
   ]
  },
  {
   "cell_type": "code",
   "execution_count": 34,
   "metadata": {},
   "outputs": [],
   "source": [
    "branch_norm=[[np.linalg.norm(x) for x in branch_diffs] for branch_diffs in all_branch_diffs]"
   ]
  },
  {
   "cell_type": "code",
   "execution_count": 35,
   "metadata": {},
   "outputs": [],
   "source": [
    "branc_norm_mat=np.stack(branch_norm)"
   ]
  },
  {
   "cell_type": "code",
   "execution_count": 36,
   "metadata": {},
   "outputs": [
    {
     "data": {
      "text/plain": [
       "[<matplotlib.lines.Line2D at 0x2b811bd7b470>]"
      ]
     },
     "execution_count": 36,
     "metadata": {},
     "output_type": "execute_result"
    },
    {
     "data": {
      "image/png": "[encoded data removed]",
      "text/plain": [
       "<Figure size 1080x360 with 1 Axes>"
      ]
     },
     "metadata": {
      "needs_background": "light"
     },
     "output_type": "display_data"
    }
   ],
   "source": [
    "plt.figure(figsize=(15,5))\n",
    "plt.plot(moving_average(np.arange(branc_norm_mat.shape[0]),10),moving_average(np.mean(branc_norm_mat,axis=1),10))#,#yerr=np.std(branc_norm_mat,axis=1))"
   ]
  },
  {
   "cell_type": "code",
   "execution_count": 127,
   "metadata": {},
   "outputs": [],
   "source": []
  },
  {
   "cell_type": "code",
   "execution_count": 37,
   "metadata": {},
   "outputs": [],
   "source": [
    "layer_branch_data=dict()"
   ]
  },
  {
   "cell_type": "code",
   "execution_count": 38,
   "metadata": {},
   "outputs": [],
   "source": [
    "layer_branch_data[f\"hier_{1}\"]=np.ones(1)"
   ]
  },
  {
   "cell_type": "code",
   "execution_count": 39,
   "metadata": {},
   "outputs": [
    {
     "data": {
      "text/plain": [
       "{'hier_1': array([1.])}"
      ]
     },
     "execution_count": 39,
     "metadata": {},
     "output_type": "execute_result"
    }
   ],
   "source": [
    "layer_branch_data"
   ]
  },
  {
   "cell_type": "code",
   "execution_count": 40,
   "metadata": {},
   "outputs": [],
   "source": [
    "layer_gradient_dict=dict()\n"
   ]
  },
  {
   "cell_type": "code",
   "execution_count": 41,
   "metadata": {},
   "outputs": [],
   "source": [
    "layer=layer_names[1]\n",
    "layer_gradient_dict[layer]=layer_branch_data"
   ]
  },
  {
   "cell_type": "code",
   "execution_count": 42,
   "metadata": {},
   "outputs": [
    {
     "data": {
      "text/plain": [
       "{'layer_1_Linear': {'hier_1': array([1.])}}"
      ]
     },
     "execution_count": 42,
     "metadata": {},
     "output_type": "execute_result"
    }
   ],
   "source": [
    "layer_gradient_dict"
   ]
  },
  {
   "cell_type": "code",
   "execution_count": 43,
   "metadata": {},
   "outputs": [
    {
     "ename": "NameError",
     "evalue": "name 'first_idx' is not defined",
     "output_type": "error",
     "traceback": [
      "\u001b[0;31m---------------------------------------------------------------------------\u001b[0m",
      "\u001b[0;31mNameError\u001b[0m                                 Traceback (most recent call last)",
      "\u001b[0;32m<ipython-input-43-0075b75b8966>\u001b[0m in \u001b[0;36m<module>\u001b[0;34m\u001b[0m\n\u001b[1;32m      1\u001b[0m \u001b[0mplt\u001b[0m\u001b[0;34m.\u001b[0m\u001b[0mfigure\u001b[0m\u001b[0;34m(\u001b[0m\u001b[0mfigsize\u001b[0m\u001b[0;34m=\u001b[0m\u001b[0;34m(\u001b[0m\u001b[0;36m15\u001b[0m\u001b[0;34m,\u001b[0m\u001b[0;36m15\u001b[0m\u001b[0;34m)\u001b[0m\u001b[0;34m)\u001b[0m\u001b[0;34m\u001b[0m\u001b[0;34m\u001b[0m\u001b[0m\n\u001b[0;32m----> 2\u001b[0;31m \u001b[0mplt\u001b[0m\u001b[0;34m.\u001b[0m\u001b[0mplot\u001b[0m\u001b[0;34m(\u001b[0m\u001b[0mfirst_idx\u001b[0m\u001b[0;34m)\u001b[0m\u001b[0;34m\u001b[0m\u001b[0;34m\u001b[0m\u001b[0m\n\u001b[0m\u001b[1;32m      3\u001b[0m \u001b[0mplt\u001b[0m\u001b[0;34m.\u001b[0m\u001b[0mplot\u001b[0m\u001b[0;34m(\u001b[0m\u001b[0msecond_idx\u001b[0m\u001b[0;34m-\u001b[0m\u001b[0;36m50\u001b[0m\u001b[0;34m)\u001b[0m\u001b[0;34m\u001b[0m\u001b[0;34m\u001b[0m\u001b[0m\n",
      "\u001b[0;31mNameError\u001b[0m: name 'first_idx' is not defined"
     ]
    },
    {
     "data": {
      "text/plain": [
       "<Figure size 1080x1080 with 0 Axes>"
      ]
     },
     "metadata": {},
     "output_type": "display_data"
    }
   ],
   "source": [
    "plt.figure(figsize=(15,15))\n",
    "plt.plot(first_idx)\n",
    "plt.plot(second_idx-50)"
   ]
  },
  {
   "cell_type": "markdown",
   "metadata": {},
   "source": [
    "# 4 classes "
   ]
  },
  {
   "cell_type": "code",
   "execution_count": 44,
   "metadata": {},
   "outputs": [],
   "source": [
    "a = list(range(800))\n",
    "combs=list(itertools.combinations_with_replacement(a, r=2))\n",
    "len(combs)\n",
    "combs_1=list(itertools.combinations(a, r=2))\n",
    "combs_1=[(x[1],x[0]) for x in combs_1]\n",
    "\n"
   ]
  },
  {
   "cell_type": "code",
   "execution_count": 45,
   "metadata": {},
   "outputs": [],
   "source": [
    "# make sure we also get the reversed indices! because combinations does not do asymmetric pairs\n",
    "all_combs=[combs,combs_1]\n",
    "all_combs = [item for sublist in all_combs for item in sublist]\n",
    "all_combs_mat=np.asarray(all_combs)"
   ]
  },
  {
   "cell_type": "code",
   "execution_count": 46,
   "metadata": {},
   "outputs": [],
   "source": [
    "branch_diffs_1=[]\n",
    "for branch in tiled_transfo_mat[4].transpose(): # for each single \"over\" branch, iterate through the categories\n",
    "    P12=e_f[np.where(branch==1),:].squeeze() # extract each category\n",
    "    random_combs=[all_combs[x] for x in np.random.choice(np.arange(len(all_combs)),size=100)]\n",
    "    p12_diff=[np.diff(P12[x,:],axis=0) for x in random_combs] # find all pairwise differences between all samples in cat 1 and cat 2 (the leaf branches)\n",
    "    branch_diffs_1.append(np.mean(np.stack(p12_diff).squeeze(),axis=0)) # take mean over all the pairwise diffs"
   ]
  },
  {
   "cell_type": "code",
   "execution_count": 265,
   "metadata": {},
   "outputs": [
    {
     "data": {
      "text/plain": [
       "(624,)"
      ]
     },
     "execution_count": 265,
     "metadata": {},
     "output_type": "execute_result"
    }
   ],
   "source": []
  },
  {
   "cell_type": "code",
   "execution_count": 47,
   "metadata": {},
   "outputs": [
    {
     "name": "stderr",
     "output_type": "stream",
     "text": [
      "1060it [00:15, 68.32it/s]\n"
     ]
    }
   ],
   "source": [
    "all_branch_diffs_4=[]\n",
    "for _,time_point in tqdm(enumerate(e_f_list)):\n",
    "    branch_diffs_4=[]\n",
    "    for branch in tiled_transfo_mat[4].transpose(): # for each single \"over\" branch, iterate through the categories\n",
    "        P12=time_point[np.where(branch==1),:].squeeze() # extract each category\n",
    "        random_combs=[all_combs[x] for x in np.random.choice(np.arange(len(all_combs)),size=100)]\n",
    "        p12_diff=[np.diff(P12[x,:],axis=0) for x in random_combs] # find all pairwise differences between all samples in cat 1 and cat 2 (the leaf branches)\n",
    "        branch_diffs_4.append(np.mean(np.stack(p12_diff).squeeze(),axis=0)) # take mean over all the pairwise diffs\n",
    "    all_branch_diffs_4.append(branch_diffs_4)"
   ]
  },
  {
   "cell_type": "code",
   "execution_count": 51,
   "metadata": {},
   "outputs": [
    {
     "data": {
      "text/plain": [
       "2500"
      ]
     },
     "execution_count": 51,
     "metadata": {},
     "output_type": "execute_result"
    }
   ],
   "source": [
    "50**2"
   ]
  },
  {
   "cell_type": "code",
   "execution_count": 50,
   "metadata": {},
   "outputs": [],
   "source": [
    "branch_norm_4=[[np.linalg.norm(x) for x in branch_diffs] for branch_diffs in all_branch_diffs_4]\n",
    "branc_norm_4_mat=np.stack(branch_norm_4)"
   ]
  },
  {
   "cell_type": "code",
   "execution_count": 268,
   "metadata": {},
   "outputs": [
    {
     "data": {
      "text/plain": [
       "(657, 4)"
      ]
     },
     "execution_count": 268,
     "metadata": {},
     "output_type": "execute_result"
    }
   ],
   "source": []
  },
  {
   "cell_type": "code",
   "execution_count": 52,
   "metadata": {},
   "outputs": [
    {
     "data": {
      "text/plain": [
       "[<matplotlib.lines.Line2D at 0x2b812895af98>]"
      ]
     },
     "execution_count": 52,
     "metadata": {},
     "output_type": "execute_result"
    },
    {
     "data": {
      "image/png": "[encoded data removed]",
      "text/plain": [
       "<Figure size 1080x360 with 1 Axes>"
      ]
     },
     "metadata": {
      "needs_background": "light"
     },
     "output_type": "display_data"
    }
   ],
   "source": [
    "plt.figure(figsize=(15,5))\n",
    "plt.subplot(2,1,1)\n",
    "plt.plot(moving_average(np.arange(branc_norm_mat.shape[0]),10),moving_average(np.mean(branc_norm_mat,axis=1),10))#,#yerr=np.std(branc_norm_mat,axis=1))\n",
    "\n",
    "plt.plot(moving_average(np.arange(branc_norm_4_mat.shape[0]),10),moving_average(np.mean(branc_norm_4_mat,axis=1),10))#,#yerr=np.std(branc_norm_mat,axis=1))"
   ]
  },
  {
   "cell_type": "markdown",
   "metadata": {},
   "source": [
    "# do analysis in torch"
   ]
  },
  {
   "cell_type": "code",
   "execution_count": 40,
   "metadata": {},
   "outputs": [],
   "source": [
    "torch.cuda.get_device_name(0)\n",
    "device =torch.device(\"cuda:0\" if torch.cuda.is_available() else \"cpu\")\n",
    "torch.backends.cudnn.deterministic = True\n"
   ]
  },
  {
   "cell_type": "code",
   "execution_count": 48,
   "metadata": {},
   "outputs": [
    {
     "data": {
      "text/plain": [
       "3200"
      ]
     },
     "execution_count": 48,
     "metadata": {},
     "output_type": "execute_result"
    }
   ],
   "source": [
    "e_f_list=[torch.tensor(np.reshape(x,[-1,x.shape[2]]),device=device,dtype = float,requires_grad=False) for x in all_grad_data]\n"
   ]
  },
  {
   "cell_type": "code",
   "execution_count": 49,
   "metadata": {},
   "outputs": [],
   "source": [
    "e_f_tensor=torch.stack(e_f_list)#.device=device,dtype = float,requires_grad=False)"
   ]
  },
  {
   "cell_type": "code",
   "execution_count": 51,
   "metadata": {},
   "outputs": [
    {
     "data": {
      "text/plain": [
       "torch.Size([1060, 3200, 64])"
      ]
     },
     "execution_count": 51,
     "metadata": {},
     "output_type": "execute_result"
    }
   ],
   "source": [
    "e_f_tensor.shape"
   ]
  },
  {
   "cell_type": "code",
   "execution_count": 11,
   "metadata": {},
   "outputs": [],
   "source": [
    "a = list(range(800))\n",
    "combs=list(itertools.combinations_with_replacement(a, r=2))\n",
    "len(combs)\n",
    "combs_1=list(itertools.combinations(a, r=2))\n",
    "combs_1=[(x[1],x[0]) for x in combs_1]\n",
    "\n",
    "# make sure we also get the reversed indices! because combinations does not do asymmetric pairs\n",
    "all_combs=[combs,combs_1]\n",
    "all_combs = [item for sublist in all_combs for item in sublist]\n",
    "all_combs_mat=np.asarray(all_combs)"
   ]
  },
  {
   "cell_type": "code",
   "execution_count": null,
   "metadata": {},
   "outputs": [],
   "source": [
    "branch_diffs_1=[]\n",
    "for branch in tiled_transfo_mat[4].transpose(): # for each single \"over\" branch, iterate through the categories\n",
    "    P12=torch.tensor(e_f[np.where(branch==1),:].squeeze() # extract each category\n",
    "    p12_diff=[np.diff(P12[x,:],axis=0) for x in random_combs] # find all pairwise differences between all samples in cat 1 and cat 2 (the leaf branches)\n",
    "    branch_diffs_1.append(np.mean(np.stack(p12_diff).squeeze(),axis=0)) # take mean over all the pairwise diffs"
   ]
  },
  {
   "cell_type": "code",
   "execution_count": 25,
   "metadata": {},
   "outputs": [],
   "source": [
    "branch=tiled_transfo_mat[4][:,0]\n",
    "P12=torch.tensor(e_f[np.where(branch==1),:].squeeze()) # extract each category"
   ]
  },
  {
   "cell_type": "code",
   "execution_count": 33,
   "metadata": {},
   "outputs": [],
   "source": [
    "P_pairs=P12[all_combs,:]"
   ]
  },
  {
   "cell_type": "code",
   "execution_count": 37,
   "metadata": {},
   "outputs": [
    {
     "data": {
      "text/plain": [
       "torch.Size([64])"
      ]
     },
     "execution_count": 37,
     "metadata": {},
     "output_type": "execute_result"
    }
   ],
   "source": [
    "torch.mean(P_pairs[:,1,:]-P_pairs[:,0,:],axis=0)"
   ]
  },
  {
   "cell_type": "code",
   "execution_count": 38,
   "metadata": {},
   "outputs": [
    {
     "data": {
      "text/plain": [
       "device(type='cpu')"
      ]
     },
     "execution_count": 38,
     "metadata": {},
     "output_type": "execute_result"
    }
   ],
   "source": [
    "torch.tensor(1,device=device,dtype = float,requires_grad=False)"
   ]
  },
  {
   "cell_type": "code",
   "execution_count": 98,
   "metadata": {},
   "outputs": [
    {
     "ename": "RuntimeError",
     "evalue": "CUDA error: device-side assert triggered",
     "output_type": "error",
     "traceback": [
      "\u001b[0;31m---------------------------------------------------------------------------\u001b[0m",
      "\u001b[0;31mRuntimeError\u001b[0m                              Traceback (most recent call last)",
      "\u001b[0;32m<ipython-input-98-97f30b5c1cae>\u001b[0m in \u001b[0;36m<module>\u001b[0;34m\u001b[0m\n\u001b[1;32m      1\u001b[0m \u001b[0me_f_tensor\u001b[0m\u001b[0;34m.\u001b[0m\u001b[0mshape\u001b[0m\u001b[0;34m\u001b[0m\u001b[0;34m\u001b[0m\u001b[0m\n\u001b[0;32m----> 2\u001b[0;31m \u001b[0me_f\u001b[0m\u001b[0;34m[\u001b[0m\u001b[0mnp\u001b[0m\u001b[0;34m.\u001b[0m\u001b[0margwhere\u001b[0m\u001b[0;34m(\u001b[0m\u001b[0mbranch\u001b[0m\u001b[0;34m==\u001b[0m\u001b[0;36m1\u001b[0m\u001b[0;34m)\u001b[0m\u001b[0;34m,\u001b[0m\u001b[0;34m:\u001b[0m\u001b[0;34m]\u001b[0m\u001b[0;34m\u001b[0m\u001b[0;34m\u001b[0m\u001b[0m\n\u001b[0m",
      "\u001b[0;31mRuntimeError\u001b[0m: CUDA error: device-side assert triggered"
     ]
    }
   ],
   "source": [
    "e_f_tensor.shape\n",
    "e_f[np.argwhere(branch==1),:]"
   ]
  },
  {
   "cell_type": "code",
   "execution_count": 84,
   "metadata": {},
   "outputs": [
    {
     "name": "stderr",
     "output_type": "stream",
     "text": [
      "  0%|          | 0/1060 [00:00<?, ?it/s]\n"
     ]
    },
    {
     "ename": "RuntimeError",
     "evalue": "CUDA error: device-side assert triggered",
     "output_type": "error",
     "traceback": [
      "\u001b[0;31m---------------------------------------------------------------------------\u001b[0m",
      "\u001b[0;31mRuntimeError\u001b[0m                              Traceback (most recent call last)",
      "\u001b[0;32m<ipython-input-84-4308ac859618>\u001b[0m in \u001b[0;36m<module>\u001b[0;34m\u001b[0m\n\u001b[1;32m      4\u001b[0m     \u001b[0mbranch_diffs_4\u001b[0m\u001b[0;34m=\u001b[0m\u001b[0;34m[\u001b[0m\u001b[0;34m]\u001b[0m\u001b[0;34m\u001b[0m\u001b[0;34m\u001b[0m\u001b[0m\n\u001b[1;32m      5\u001b[0m     \u001b[0;32mfor\u001b[0m \u001b[0mbranch\u001b[0m \u001b[0;32min\u001b[0m \u001b[0mtiled_transfo_mat\u001b[0m\u001b[0;34m[\u001b[0m\u001b[0;36m1\u001b[0m\u001b[0;34m]\u001b[0m\u001b[0;34m.\u001b[0m\u001b[0mtranspose\u001b[0m\u001b[0;34m(\u001b[0m\u001b[0;34m)\u001b[0m\u001b[0;34m:\u001b[0m \u001b[0;31m# for each single \"over\" branch, iterate through the categories\u001b[0m\u001b[0;34m\u001b[0m\u001b[0;34m\u001b[0m\u001b[0m\n\u001b[0;32m----> 6\u001b[0;31m         \u001b[0mP12\u001b[0m\u001b[0;34m=\u001b[0m\u001b[0me_f\u001b[0m\u001b[0;34m[\u001b[0m\u001b[0mnp\u001b[0m\u001b[0;34m.\u001b[0m\u001b[0mwhere\u001b[0m\u001b[0;34m(\u001b[0m\u001b[0mbranch\u001b[0m\u001b[0;34m==\u001b[0m\u001b[0;36m1\u001b[0m\u001b[0;34m)\u001b[0m\u001b[0;34m,\u001b[0m\u001b[0;34m:\u001b[0m\u001b[0;34m]\u001b[0m\u001b[0;34m.\u001b[0m\u001b[0msqueeze\u001b[0m\u001b[0;34m(\u001b[0m\u001b[0;34m)\u001b[0m\u001b[0;34m\u001b[0m\u001b[0;34m\u001b[0m\u001b[0m\n\u001b[0m\u001b[1;32m      7\u001b[0m         \u001b[0mP_pairs\u001b[0m\u001b[0;34m=\u001b[0m\u001b[0mP12\u001b[0m\u001b[0;34m[\u001b[0m\u001b[0mall_combs\u001b[0m\u001b[0;34m,\u001b[0m\u001b[0;34m:\u001b[0m\u001b[0;34m]\u001b[0m\u001b[0;34m\u001b[0m\u001b[0;34m\u001b[0m\u001b[0m\n\u001b[1;32m      8\u001b[0m         \u001b[0mbranch_diffs_4\u001b[0m\u001b[0;34m.\u001b[0m\u001b[0mappend\u001b[0m\u001b[0;34m(\u001b[0m\u001b[0mtorch\u001b[0m\u001b[0;34m.\u001b[0m\u001b[0mmean\u001b[0m\u001b[0;34m(\u001b[0m\u001b[0mP_pairs\u001b[0m\u001b[0;34m[\u001b[0m\u001b[0;34m:\u001b[0m\u001b[0;34m,\u001b[0m\u001b[0;36m1\u001b[0m\u001b[0;34m,\u001b[0m\u001b[0;34m:\u001b[0m\u001b[0;34m]\u001b[0m\u001b[0;34m-\u001b[0m\u001b[0mP_pairs\u001b[0m\u001b[0;34m[\u001b[0m\u001b[0;34m:\u001b[0m\u001b[0;34m,\u001b[0m\u001b[0;36m0\u001b[0m\u001b[0;34m,\u001b[0m\u001b[0;34m:\u001b[0m\u001b[0;34m]\u001b[0m\u001b[0;34m,\u001b[0m\u001b[0maxis\u001b[0m\u001b[0;34m=\u001b[0m\u001b[0;36m0\u001b[0m\u001b[0;34m)\u001b[0m\u001b[0;34m)\u001b[0m\u001b[0;34m\u001b[0m\u001b[0;34m\u001b[0m\u001b[0m\n",
      "\u001b[0;31mRuntimeError\u001b[0m: CUDA error: device-side assert triggered"
     ]
    }
   ],
   "source": [
    "all_branch_diffs_4=[]\n",
    "for k in tqdm(range(e_f_tensor.shape[0])):\n",
    "    e_f=e_f_tensor[k,:,:]\n",
    "    branch_diffs_4=[]\n",
    "    for branch in tiled_transfo_mat[1].transpose(): # for each single \"over\" branch, iterate through the categories\n",
    "        P12=e_f[torch.where(branch==1),:].squeeze()\n",
    "        P_pairs=P12[all_combs,:]\n",
    "        branch_diffs_4.append(torch.mean(P_pairs[:,1,:]-P_pairs[:,0,:],axis=0))\n",
    "    all_branch_diffs_4.append(branch_diffs_4)"
   ]
  },
  {
   "cell_type": "code",
   "execution_count": 82,
   "metadata": {},
   "outputs": [],
   "source": [
    "branch_norm_4=[[np.linalg.norm(x.cpu().numpy()) for x in branch_diffs] for branch_diffs in all_branch_diffs_4]\n",
    "branc_norm_4_mat=np.stack(branch_norm_4)"
   ]
  },
  {
   "cell_type": "code",
   "execution_count": 83,
   "metadata": {},
   "outputs": [
    {
     "data": {
      "text/plain": [
       "[<matplotlib.lines.Line2D at 0x2b04dc8b7668>]"
      ]
     },
     "execution_count": 83,
     "metadata": {},
     "output_type": "execute_result"
    },
    {
     "data": {
      "image/png": "[encoded data removed]",
      "text/plain": [
       "<Figure size 1080x360 with 1 Axes>"
      ]
     },
     "metadata": {
      "needs_background": "light"
     },
     "output_type": "display_data"
    }
   ],
   "source": [
    "plt.figure(figsize=(15,5))\n",
    "plt.plot(moving_average(np.arange(branc_norm_4_mat.shape[0]),10),moving_average(np.mean(branc_norm_4_mat,axis=1),10))#,#yerr=np.std(branc_norm_mat,axis=1))"
   ]
  },
  {
   "cell_type": "code",
   "execution_count": 69,
   "metadata": {},
   "outputs": [],
   "source": [
    "p12_tensor=e_f_tensor[:,np.where(branch==1),:].squeeze()"
   ]
  },
  {
   "cell_type": "code",
   "execution_count": 74,
   "metadata": {},
   "outputs": [],
   "source": [
    "p12_pair=p12_tensor[:,all_combs[1:100],:]"
   ]
  },
  {
   "cell_type": "code",
   "execution_count": 75,
   "metadata": {},
   "outputs": [
    {
     "ename": "AttributeError",
     "evalue": "'list' object has no attribute 'shape'",
     "output_type": "error",
     "traceback": [
      "\u001b[0;31m---------------------------------------------------------------------------\u001b[0m",
      "\u001b[0;31mAttributeError\u001b[0m                            Traceback (most recent call last)",
      "\u001b[0;32m<ipython-input-75-f11e61dcba84>\u001b[0m in \u001b[0;36m<module>\u001b[0;34m\u001b[0m\n\u001b[0;32m----> 1\u001b[0;31m \u001b[0mall_combs\u001b[0m\u001b[0;34m.\u001b[0m\u001b[0mshape\u001b[0m\u001b[0;34m\u001b[0m\u001b[0;34m\u001b[0m\u001b[0m\n\u001b[0m",
      "\u001b[0;31mAttributeError\u001b[0m: 'list' object has no attribute 'shape'"
     ]
    }
   ],
   "source": [
    "all_branch_diffs_4=[]\n",
    "for _,time_point in tqdm(enumerate(e_f_list)):\n",
    "    branch_diffs_4=[]\n",
    "    for branch in tiled_transfo_mat[4].transpose(): # for each single \"over\" branch, iterate through the categories\n",
    "        P12=time_point[np.where(branch==1),:].squeeze() # extract each category\n",
    "        random_combs=[all_combs[x] for x in np.random.choice(np.arange(len(all_combs)),size=2500)]\n",
    "        p12_diff=[np.diff(P12[x,:],axis=0) for x in random_combs] # find all pairwise differences between all samples in cat 1 and cat 2 (the leaf branches)\n",
    "        branch_diffs_4.append(np.mean(np.stack(p12_diff).squeeze(),axis=0)) # take mean over all the pairwise diffs\n",
    "    all_branch_diffs_4.append(branch_diffs_4)"
   ]
  },
  {
   "cell_type": "code",
   "execution_count": 77,
   "metadata": {},
   "outputs": [],
   "source": []
  },
  {
   "cell_type": "code",
   "execution_count": null,
   "metadata": {},
   "outputs": [],
   "source": []
  }
 ],
 "metadata": {
  "kernelspec": {
   "display_name": "Python 3",
   "language": "python",
   "name": "python3"
  },
  "language_info": {
   "codemirror_mode": {
    "name": "ipython",
    "version": 3
   },
   "file_extension": ".py",
   "mimetype": "text/x-python",
   "name": "python",
   "nbconvert_exporter": "python",
   "pygments_lexer": "ipython3",
   "version": "3.6.10"
  }
 },
 "nbformat": 4,
 "nbformat_minor": 4
}
