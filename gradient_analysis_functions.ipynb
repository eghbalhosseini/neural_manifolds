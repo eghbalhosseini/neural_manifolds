{
 "cells": [
  {
   "cell_type": "code",
   "execution_count": 1,
   "metadata": {},
   "outputs": [],
   "source": [
    "import numpy as np\n",
    "import sys\n",
    "import os\n",
    "import glob\n",
    "import getpass\n",
    "import argparse\n",
    "import pickle\n",
    "import matplotlib.cm as cm\n",
    "import matplotlib.pyplot as plt\n",
    "import fnmatch \n",
    "from tqdm import tqdm \n",
    "import fnmatch \n",
    "import torch \n",
    "import pandas as pd \n",
    "from utils import save_dir, analyze_dir, result_dir,train_pool"
   ]
  },
  {
   "cell_type": "code",
   "execution_count": 2,
   "metadata": {},
   "outputs": [],
   "source": [
    "from utils import save_dir, analyze_dir, result_dir\n",
    "model_identifier = 'NN-tree_nclass=64_nobj=64000_nhier=6_beta=0.000161_sigma=5.0_nfeat=936-train_test-fixed'\n",
    "analyze_identifier= 'mftma-exm_per_class=50-proj=False-rand=True-kappa=1e-08-n_t=300-n_rep=5'\n",
    "train_identifier = 'epochs-10_batch-32_lr-0.01_momentum-0.5_init-gaussian_std-1e-06'"
   ]
  },
  {
   "cell_type": "code",
   "execution_count": 3,
   "metadata": {},
   "outputs": [
    {
     "name": "stderr",
     "output_type": "stream",
     "text": [
      "1060it [00:18, 56.29it/s]\n"
     ]
    }
   ],
   "source": [
    "# load accuracy data first \n",
    "training_files=[]\n",
    "for file in os.listdir(os.path.join(save_dir,model_identifier,train_identifier)):\n",
    "    if fnmatch.fnmatch(file, '*.pth'):\n",
    "            training_files.append(os.path.join(save_dir,model_identifier,train_identifier,file))\n",
    "\n",
    "hier_accu=[]\n",
    "for idx, files in tqdm(enumerate(training_files)):\n",
    "    test=torch.load(files)\n",
    "    hier_accu.append([test['epoch'],test['batchidx'], test['hier_test_acc']])\n",
    "dummy=[]\n",
    "epochs=[]\n",
    "batches=[]\n",
    "for item in hier_accu:\n",
    "    epochs.append(item[0])\n",
    "    batches.append(item[1])\n",
    "    dummy.append(item[0]*10000+item[1])\n",
    "fixed_idx=np.argsort(dummy)"
   ]
  },
  {
   "cell_type": "code",
   "execution_count": 6,
   "metadata": {},
   "outputs": [
    {
     "data": {
      "text/plain": [
       "tensor([17,  3, 37, 53,  0, 13, 52,  8, 60, 28,  2, 30, 56,  0, 21, 41,  9, 53,\n",
       "         9, 49, 23, 39, 25, 35,  1, 29, 44, 15,  6, 28, 49, 61])"
      ]
     },
     "execution_count": 6,
     "metadata": {},
     "output_type": "execute_result"
    }
   ],
   "source": [
    "test['target_test']"
   ]
  },
  {
   "cell_type": "code",
   "execution_count": 7,
   "metadata": {},
   "outputs": [
    {
     "name": "stdout",
     "output_type": "stream",
     "text": [
      "<HDF5 dataset \"data\": shape (128252,), type \"|u1\"> is not a matlab type\n",
      "<HDF5 dataset \"ir\": shape (128252,), type \"<u8\"> is not a matlab type\n",
      "<HDF5 dataset \"jc\": shape (64128,), type \"<u8\"> is not a matlab type\n",
      "data type not supported: graph, uint32\n",
      "data type not supported: graph, uint32\n"
     ]
    }
   ],
   "source": [
    "params = train_pool[model_identifier]()\n",
    "params.load_dataset()\n",
    "transfo_mat=params.dataset.transformation_mats\n",
    "\n"
   ]
  },
  {
   "cell_type": "code",
   "execution_count": 89,
   "metadata": {},
   "outputs": [
    {
     "data": {
      "text/plain": [
       "array([ 0.,  0.,  0., ..., 63., 63., 63.])"
      ]
     },
     "execution_count": 89,
     "metadata": {},
     "output_type": "execute_result"
    }
   ],
   "source": [
    "params.dataset.hierarchical_target[0]"
   ]
  },
  {
   "cell_type": "code",
   "execution_count": 21,
   "metadata": {},
   "outputs": [
    {
     "data": {
      "text/plain": [
       "array([[1., 0., 0., ..., 0., 0., 0.],\n",
       "       [1., 0., 0., ..., 0., 0., 0.],\n",
       "       [0., 1., 0., ..., 0., 0., 0.],\n",
       "       ...,\n",
       "       [0., 0., 0., ..., 0., 0., 0.],\n",
       "       [0., 0., 0., ..., 0., 0., 0.],\n",
       "       [0., 0., 0., ..., 1., 0., 0.]])"
      ]
     },
     "execution_count": 21,
     "metadata": {},
     "output_type": "execute_result"
    }
   ],
   "source": [
    " leaf=transfo_mat[0][np.sort(test['target_test'])]\n"
   ]
  },
  {
   "cell_type": "code",
   "execution_count": 82,
   "metadata": {},
   "outputs": [
    {
     "data": {
      "text/plain": [
       "6"
      ]
     },
     "execution_count": 82,
     "metadata": {},
     "output_type": "execute_result"
    }
   ],
   "source": [
    "len(transfo_mat)"
   ]
  },
  {
   "cell_type": "code",
   "execution_count": 17,
   "metadata": {},
   "outputs": [
    {
     "data": {
      "text/plain": [
       "(array([ 0,  1,  2,  3,  4,  5,  6,  7,  8,  9, 10, 11, 12, 13, 14, 15, 16,\n",
       "        17, 18, 19, 20, 21, 22, 23, 24, 25, 26, 27, 28, 29, 30, 31]),\n",
       " array([ 0,  0,  0,  1,  1,  3,  4,  4,  4,  6,  7,  8, 10, 11, 12, 14, 14,\n",
       "        14, 15, 17, 18, 19, 20, 22, 24, 24, 26, 26, 26, 28, 30, 30]))"
      ]
     },
     "execution_count": 17,
     "metadata": {},
     "output_type": "execute_result"
    }
   ],
   "source": [
    "np.where(np.matmul(leaf,transfo_mat[1]))"
   ]
  },
  {
   "cell_type": "code",
   "execution_count": null,
   "metadata": {},
   "outputs": [],
   "source": [
    "within_class_ids=[np.arange(test['target_test'])]"
   ]
  },
  {
   "cell_type": "code",
   "execution_count": 27,
   "metadata": {},
   "outputs": [
    {
     "data": {
      "text/plain": [
       "[array([ 0,  0,  1,  2,  3,  6,  8,  9,  9, 13, 15, 17, 21, 23, 25, 28, 28,\n",
       "        29, 30, 35, 37, 39, 41, 44, 49, 49, 52, 53, 53, 56, 60, 61]),\n",
       " array([ 0,  0,  0,  1,  1,  3,  4,  4,  4,  6,  7,  8, 10, 11, 12, 14, 14,\n",
       "        14, 15, 17, 18, 19, 20, 22, 24, 24, 26, 26, 26, 28, 30, 30]),\n",
       " array([ 0,  0,  0,  0,  0,  1,  2,  2,  2,  3,  3,  4,  5,  5,  6,  7,  7,\n",
       "         7,  7,  8,  9,  9, 10, 11, 12, 12, 13, 13, 13, 14, 15, 15]),\n",
       " array([0, 0, 0, 0, 0, 0, 1, 1, 1, 1, 1, 2, 2, 2, 3, 3, 3, 3, 3, 4, 4, 4,\n",
       "        5, 5, 6, 6, 6, 6, 6, 7, 7, 7]),\n",
       " array([0, 0, 0, 0, 0, 0, 0, 0, 0, 0, 0, 1, 1, 1, 1, 1, 1, 1, 1, 2, 2, 2,\n",
       "        2, 2, 3, 3, 3, 3, 3, 3, 3, 3]),\n",
       " array([0, 0, 0, 0, 0, 0, 0, 0, 0, 0, 0, 0, 0, 0, 0, 0, 0, 0, 0, 1, 1, 1,\n",
       "        1, 1, 1, 1, 1, 1, 1, 1, 1, 1])]"
      ]
     },
     "execution_count": 27,
     "metadata": {},
     "output_type": "execute_result"
    }
   ],
   "source": [
    "hierarchical_classes=[np.apply_along_axis(np.where,1,np.matmul(leaf,x)).flatten() for x in transfo_mat]\n",
    "hierarchical_classes"
   ]
  },
  {
   "cell_type": "code",
   "execution_count": null,
   "metadata": {},
   "outputs": [],
   "source": [
    "within_class_ids\n"
   ]
  },
  {
   "cell_type": "code",
   "execution_count": 41,
   "metadata": {},
   "outputs": [
    {
     "data": {
      "text/plain": [
       "[[array([ 1,  1,  2,  2,  3,  3,  4,  4,  5,  5,  6,  6,  7,  7,  8,  8,  9,\n",
       "          9, 10, 10, 11, 11, 12, 12, 13, 13, 14, 14, 15, 15, 16, 16, 17, 17,\n",
       "         18, 18, 19, 19, 20, 20, 21, 21, 22, 22, 23, 23, 24, 24, 25, 25, 26,\n",
       "         26, 27, 27, 28, 28, 29, 29, 30, 30, 31, 31, 32, 32]),\n",
       "  array([ 1,  1,  1,  1,  2,  2,  2,  2,  3,  3,  3,  3,  4,  4,  4,  4,  5,\n",
       "          5,  5,  5,  6,  6,  6,  6,  7,  7,  7,  7,  8,  8,  8,  8,  9,  9,\n",
       "          9,  9, 10, 10, 10, 10, 11, 11, 11, 11, 12, 12, 12, 12, 13, 13, 13,\n",
       "         13, 14, 14, 14, 14, 15, 15, 15, 15, 16, 16, 16, 16]),\n",
       "  array([1, 1, 1, 1, 1, 1, 1, 1, 2, 2, 2, 2, 2, 2, 2, 2, 3, 3, 3, 3, 3, 3,\n",
       "         3, 3, 4, 4, 4, 4, 4, 4, 4, 4, 5, 5, 5, 5, 5, 5, 5, 5, 6, 6, 6, 6,\n",
       "         6, 6, 6, 6, 7, 7, 7, 7, 7, 7, 7, 7, 8, 8, 8, 8, 8, 8, 8, 8]),\n",
       "  array([1, 1, 1, 1, 1, 1, 1, 1, 1, 1, 1, 1, 1, 1, 1, 1, 2, 2, 2, 2, 2, 2,\n",
       "         2, 2, 2, 2, 2, 2, 2, 2, 2, 2, 3, 3, 3, 3, 3, 3, 3, 3, 3, 3, 3, 3,\n",
       "         3, 3, 3, 3, 4, 4, 4, 4, 4, 4, 4, 4, 4, 4, 4, 4, 4, 4, 4, 4]),\n",
       "  array([1, 1, 1, 1, 1, 1, 1, 1, 1, 1, 1, 1, 1, 1, 1, 1, 1, 1, 1, 1, 1, 1,\n",
       "         1, 1, 1, 1, 1, 1, 1, 1, 1, 1, 2, 2, 2, 2, 2, 2, 2, 2, 2, 2, 2, 2,\n",
       "         2, 2, 2, 2, 2, 2, 2, 2, 2, 2, 2, 2, 2, 2, 2, 2, 2, 2, 2, 2])],\n",
       " array([1, 1, 1, 1, 1, 1, 1, 1, 1, 1, 1, 1, 1, 1, 1, 1, 1, 1, 1, 1, 1, 1,\n",
       "        1, 1, 1, 1, 1, 1, 1, 1, 1, 1, 1, 1, 1, 1, 1, 1, 1, 1, 1, 1, 1, 1,\n",
       "        1, 1, 1, 1, 1, 1, 1, 1, 1, 1, 1, 1, 1, 1, 1, 1, 1, 1, 1, 1])]"
      ]
     },
     "execution_count": 41,
     "metadata": {},
     "output_type": "execute_result"
    }
   ],
   "source": [
    "[within_class_ids[1:],within_class_ids[0]*0+1]"
   ]
  },
  {
   "cell_type": "code",
   "execution_count": 96,
   "metadata": {},
   "outputs": [],
   "source": [
    "within_class_ids=[[np.arange(transfo_mat[0].shape[0]).reshape([-1,1])],[np.apply_along_axis(np.where,1,x).reshape([-1,1])+1 for x in transfo_mat]]\n",
    "within_class_ids = [item for sublist in within_class_ids for item in sublist]\n",
    "between_class_ids=[within_class_ids[1:],[within_class_ids[0]*0+1]]\n",
    "\n",
    "between_class_ids = [item for sublist in between_class_ids for item in sublist]\n"
   ]
  },
  {
   "cell_type": "code",
   "execution_count": 97,
   "metadata": {},
   "outputs": [],
   "source": [
    "withins=[]\n",
    "betweens=[]\n",
    "for k in range(len(between_class_ids)):\n",
    "    temp=np.matmul(within_class_ids[k],within_class_ids[k].transpose())\n",
    "    temp1=np.repeat(np.expand_dims(np.diag(temp),axis=0),temp.shape[0],axis=0)\n",
    "    within_class=temp==temp1;\n",
    "    withins.append(within_class)\n",
    "    temp=np.matmul(between_class_ids[k],between_class_ids[k].transpose())\n",
    "    temp1=np.repeat(np.expand_dims(np.diag(temp),axis=0),temp.shape[0],axis=0)\n",
    "    between_class=temp==temp1;\n",
    "    betweens.append(between_class)\n",
    "\n",
    "\n",
    "    \n",
    "    "
   ]
  },
  {
   "cell_type": "code",
   "execution_count": 102,
   "metadata": {},
   "outputs": [],
   "source": [
    "hier_within_class=[]\n",
    "hier_between_class=[]\n",
    "for idx, _ in enumerate(range(len(betweens)-1)):\n",
    "    A=withins[idx]==(~withins[idx+1])\n",
    "    hier_within_class.append(A)\n",
    "    \n",
    "    B=betweens[idx]==(~betweens[idx+1])\n",
    "    hier_between_class.append(B)"
   ]
  },
  {
   "cell_type": "code",
   "execution_count": 109,
   "metadata": {},
   "outputs": [
    {
     "data": {
      "text/plain": [
       "<matplotlib.image.AxesImage at 0x2aae0eb4e8d0>"
      ]
     },
     "execution_count": 109,
     "metadata": {},
     "output_type": "execute_result"
    },
    {
     "data": {
      "image/png": "[encoded data removed]",
      "text/plain": [
       "<Figure size 432x288 with 1 Axes>"
      ]
     },
     "metadata": {
      "needs_background": "light"
     },
     "output_type": "display_data"
    }
   ],
   "source": [
    "plt.imshow(hier_within_class[3].astype(int)-(hier_between_class[3]).astype(int))"
   ]
  },
  {
   "cell_type": "code",
   "execution_count": null,
   "metadata": {},
   "outputs": [],
   "source": [
    "hier_within_class=[]\n",
    "hier_between_class=[]\n",
    "for idx, _ in enumerate(range(len(within_cell))):\n",
    "    A=within_cell[idx]==(~between_cell[idx])\n",
    "    hier_within_class.append(A)\n",
    "    \n",
    "    B=within_cell[idx]==(~between_2_cell[idx])\n",
    "    B=B== ~A\n",
    "    hier_between_class.append(B)"
   ]
  },
  {
   "cell_type": "code",
   "execution_count": null,
   "metadata": {},
   "outputs": [],
   "source": [
    "within_cell=[];\n",
    "between_cell=[];\n",
    "between_2_cell=[];\n",
    "for idx , _ in enumerate(range(len(within_class_id)-2)):\n",
    "    within=within_class_id[idx]\n",
    "    within=np.expand_dims(within,axis=0)\n",
    "    temp=np.matmul(np.transpose(within),within)\n",
    "    temp1=np.repeat(np.expand_dims(np.diag(temp),axis=0),within.shape[1],axis=0)\n",
    "    within_class=temp==temp1;\n",
    "    within_cell.append(within_class)\n",
    "\n",
    "    between=np.repeat(np.expand_dims(np.unique(params.dataset.hierarchical_target[idx+1])+1,axis=0),2,axis=1)\n",
    "    temp=np.matmul(np.transpose(between),between)\n",
    "    temp1=np.repeat(np.expand_dims(np.diag(temp),axis=0),within.shape[1],axis=0)\n",
    "    between_class=temp==temp1\n",
    "    between_cell.append(between_class)\n",
    "    \n",
    "    \n",
    "    between=np.repeat(np.expand_dims(np.unique(params.dataset.hierarchical_target[idx+2])+1,axis=0),4,axis=1)\n",
    "    temp=np.matmul(np.transpose(between),between)\n",
    "    temp1=np.repeat(np.expand_dims(np.diag(temp),axis=0),within.shape[1],axis=0)\n",
    "    between_class=temp==temp1\n",
    "    between_2_cell.append(between_class)"
   ]
  }
 ],
 "metadata": {
  "kernelspec": {
   "display_name": "Python 3",
   "language": "python",
   "name": "python3"
  },
  "language_info": {
   "codemirror_mode": {
    "name": "ipython",
    "version": 3
   },
   "file_extension": ".py",
   "mimetype": "text/x-python",
   "name": "python",
   "nbconvert_exporter": "python",
   "pygments_lexer": "ipython3",
   "version": "3.6.10"
  }
 },
 "nbformat": 4,
 "nbformat_minor": 4
}
