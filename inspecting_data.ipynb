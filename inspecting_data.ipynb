{
 "cells": [
  {
   "cell_type": "code",
   "execution_count": 1,
   "metadata": {},
   "outputs": [],
   "source": [
    "import numpy as np\n",
    "import sys\n",
    "import os\n",
    "import glob\n",
    "import getpass\n",
    "import argparse\n",
    "import pickle\n",
    "import matplotlib.cm as cm\n",
    "import matplotlib.pyplot as plt\n",
    "from utils import save_dir, analyze_dir, result_dir\n",
    "from utils import train_pool\n",
    "from scipy.spatial.distance import cdist\n",
    "import fnmatch"
   ]
  },
  {
   "cell_type": "code",
   "execution_count": null,
   "metadata": {},
   "outputs": [],
   "source": []
  },
  {
   "cell_type": "code",
   "execution_count": 4,
   "metadata": {},
   "outputs": [],
   "source": [
    "\n",
    "model_identifier =  'NN-tree_nclass=64_nobj=64000_nhier=6_beta=0.000161_sigma=5.0_nfeat=936-train_test-fixed'\n",
    "analyze_identifier= 'mftma-exm_per_class=50-proj=False-rand=True-kappa=1e-08-n_t=300-n_rep=5'\n",
    "train_identifier = 'epochs-10_batch-32_lr-0.01_momentum-0.5_init-gaussian_std-1e-06'\n"
   ]
  },
  {
   "cell_type": "code",
   "execution_count": 5,
   "metadata": {},
   "outputs": [],
   "source": [
    "# get mftma files \n",
    "mftma_files=[]\n",
    "for file in os.listdir(os.path.join(analyze_dir,analyze_identifier,model_identifier,train_identifier)):\n",
    "    if fnmatch.fnmatch(file, '*mftma_analysis.pkl'):\n",
    "            mftma_files.append(os.path.join(analyze_dir,analyze_identifier,model_identifier,train_identifier,file))"
   ]
  },
  {
   "cell_type": "code",
   "execution_count": 6,
   "metadata": {},
   "outputs": [],
   "source": [
    "data_=pickle.load(open(mftma_files[0], 'rb'))"
   ]
  },
  {
   "cell_type": "code",
   "execution_count": 7,
   "metadata": {},
   "outputs": [
    {
     "data": {
      "text/plain": [
       "{'mftma_results': [{'capacities': [0.3034361561294619],\n",
       "   'radii': [0.6022646891314709],\n",
       "   'dimensions': [9.898698606825404],\n",
       "   'correlations': [0.15764817737397693],\n",
       "   'capacities_all': [array([0.19402279, 0.23394177, 0.44274625, 0.45902442, 0.42245675,\n",
       "           0.40037215, 0.24562521, 0.27862618, 0.24973451, 0.24326803,\n",
       "           0.21014956, 0.43068218, 0.23788978, 0.43600957, 0.23301286,\n",
       "           0.41587646, 0.21680955, 0.33946824, 0.41902451, 0.40228321,\n",
       "           0.23067444, 0.23557321, 0.25483763, 0.25468926, 0.24879255,\n",
       "           0.22765894, 0.26210395, 0.37897147, 0.20633591, 0.22581262,\n",
       "           0.42319023, 0.23627995, 0.21928748, 0.42411586, 0.43845088,\n",
       "           0.39829872, 0.43338329, 0.42543446, 0.40504628, 0.42553563,\n",
       "           0.24629728, 0.38654201, 0.42088776, 0.22024018, 0.41624488,\n",
       "           0.38211865, 0.24709106, 0.40016179, 0.46349033, 0.4202207 ,\n",
       "           0.24307312, 0.297676  , 0.25478633, 0.27977703, 0.39308827,\n",
       "           0.28943363, 0.45113865, 0.38179553, 0.22923898, 0.46261102,\n",
       "           0.23304407, 0.35494162, 0.40115157, 0.26624901])],\n",
       "   'radii_all': [array([0.71236562, 0.69365685, 0.5242139 , 0.51317366, 0.51127424,\n",
       "           0.52510801, 0.70508945, 0.68153305, 0.66793506, 0.70908847,\n",
       "           0.71094582, 0.51958197, 0.65423225, 0.50904788, 0.701565  ,\n",
       "           0.53297826, 0.70407387, 0.50083141, 0.51928377, 0.52101566,\n",
       "           0.68560062, 0.64389607, 0.66988316, 0.68222232, 0.66753745,\n",
       "           0.67378874, 0.66227458, 0.5290205 , 0.71252667, 0.7194446 ,\n",
       "           0.54951147, 0.67945492, 0.72702472, 0.51555709, 0.55159372,\n",
       "           0.49750936, 0.51950507, 0.52433622, 0.52566055, 0.51830404,\n",
       "           0.7093428 , 0.52083508, 0.51384011, 0.71396149, 0.508483  ,\n",
       "           0.51737904, 0.68809737, 0.52823677, 0.51350246, 0.51012524,\n",
       "           0.66524133, 0.65882009, 0.66679783, 0.63859921, 0.53225613,\n",
       "           0.6417021 , 0.53024482, 0.51561247, 0.69754818, 0.49949967,\n",
       "           0.68558588, 0.54882869, 0.53088822, 0.63786603])],\n",
       "   'dimensions_all': [array([12.78055124, 11.45070567,  7.95309593,  8.14904121,  8.01589262,\n",
       "            8.68857783, 11.43206107, 10.744425  , 11.18141968, 11.68188295,\n",
       "           12.12640814,  8.24175053, 11.14414323,  8.12238814, 11.13603163,\n",
       "            8.70523917, 12.3580573 ,  8.29420938,  8.477015  ,  8.40302536,\n",
       "           11.67534655, 11.48756419, 10.98458767, 10.76903797, 11.57438698,\n",
       "           11.52998569, 10.76543604,  8.54339351, 12.78165884, 12.05037525,\n",
       "            8.34762918, 11.7349015 , 12.12358463,  8.31219456,  8.26832216,\n",
       "            8.50226702,  7.89954178,  8.46255993,  8.43131943,  8.30971271,\n",
       "           11.59762591,  8.14690506,  8.06414682, 11.90946352,  8.12846406,\n",
       "            8.42664628, 11.52599254,  8.48671221,  8.31250183,  8.18564415,\n",
       "           11.1713964 , 10.16212296, 11.44525074, 10.72127421,  8.80323242,\n",
       "           10.4168847 ,  8.10588806,  8.44198894, 12.23998995,  7.80575995,\n",
       "           11.97802782,  9.01188867,  8.1811718 , 10.60800519])],\n",
       "   'correlations_all': [0.15764817737397693],\n",
       "   'layer': 'layer_0_Input',\n",
       "   'n_hier_class': 64,\n",
       "   'hierarchy': 0},\n",
       "  {'capacities': [0.3178608144845141],\n",
       "   'radii': [0.6537500565561887],\n",
       "   'dimensions': [8.454625347513499],\n",
       "   'correlations': [0.16645900664790983],\n",
       "   'capacities_all': [array([0.35325621, 0.23518305, 0.33041926, 0.24691075, 0.2536519 ,\n",
       "           0.36534648, 0.37473467, 0.42116831, 0.2392744 , 0.39920716,\n",
       "           0.24324294, 0.35872395, 0.4193587 , 0.40295699, 0.43791827,\n",
       "           0.27234277, 0.43372515, 0.33821786, 0.367335  , 0.23048266,\n",
       "           0.25202585, 0.35610792, 0.36993961, 0.40336012, 0.39934145,\n",
       "           0.34387679, 0.25911883, 0.26967591, 0.24911193, 0.39393691,\n",
       "           0.33937995, 0.27577549])],\n",
       "   'radii_all': [array([0.61926743, 0.78739677, 0.64262566, 0.73544287, 0.74002003,\n",
       "           0.57961011, 0.61678757, 0.59047564, 0.77889425, 0.60534114,\n",
       "           0.74400027, 0.60967495, 0.61167768, 0.60938736, 0.56880186,\n",
       "           0.73141666, 0.59900927, 0.63165647, 0.60765547, 0.73250425,\n",
       "           0.74697446, 0.59220503, 0.58879979, 0.58634051, 0.57850907,\n",
       "           0.6118515 , 0.6728182 , 0.70900095, 0.75498248, 0.61198716,\n",
       "           0.59113642, 0.73375052])],\n",
       "   'dimensions_all': [array([ 7.78775182, 10.16379857,  8.20183761,  9.86262241,  9.67072572,\n",
       "            7.54792373,  7.73373317,  7.36921678, 10.28966969,  7.80240703,\n",
       "            9.78602817,  8.00428076,  7.38142727,  7.36642512,  7.02936305,\n",
       "            9.4829782 ,  7.55476983,  7.9056688 ,  7.40517677, 10.36751874,\n",
       "           10.10722869,  8.02181114,  7.61927565,  7.62442283,  7.21067501,\n",
       "            7.71872066,  9.37897025,  9.08137819, 10.01498716,  7.7347659 ,\n",
       "            8.02564529,  9.29680711])],\n",
       "   'correlations_all': [0.16645900664790983],\n",
       "   'layer': 'layer_0_Input',\n",
       "   'n_hier_class': 32,\n",
       "   'hierarchy': 1},\n",
       "  {'capacities': [0.29554013830935244],\n",
       "   'radii': [0.7390561710961581],\n",
       "   'dimensions': [8.184800648102083],\n",
       "   'correlations': [0.18592147827148436],\n",
       "   'capacities_all': [array([0.30362483, 0.27784916, 0.34458105, 0.23740542, 0.26670835,\n",
       "           0.27205371, 0.29867396, 0.3034832 , 0.31127387, 0.33079276,\n",
       "           0.28436056, 0.32951337, 0.28958431, 0.32490699, 0.30916521,\n",
       "           0.28487826])],\n",
       "   'radii_all': [array([0.73776878, 0.73805675, 0.68840786, 0.81902105, 0.82362678,\n",
       "           0.74799626, 0.69977388, 0.75392373, 0.73952866, 0.68863534,\n",
       "           0.76658706, 0.69444078, 0.72797045, 0.69737157, 0.69294414,\n",
       "           0.80884564])],\n",
       "   'dimensions_all': [array([8.01133038, 8.373592  , 7.3009386 , 9.66367043, 9.18796409,\n",
       "           8.58231276, 7.89990297, 7.98459036, 7.8238053 , 7.6615767 ,\n",
       "           8.22173505, 7.79889147, 8.18599223, 7.56561102, 7.99223684,\n",
       "           8.70266017])],\n",
       "   'correlations_all': [0.18592147827148436],\n",
       "   'layer': 'layer_0_Input',\n",
       "   'n_hier_class': 16,\n",
       "   'hierarchy': 2},\n",
       "  {'capacities': [0.22546309656334435],\n",
       "   'radii': [0.8570129853632972],\n",
       "   'dimensions': [9.747704976483305],\n",
       "   'correlations': [0.22331162861415318],\n",
       "   'capacities_all': [array([0.20707557, 0.25129962, 0.22775611, 0.22857615, 0.29188696,\n",
       "           0.21052012, 0.21502801, 0.19678048])],\n",
       "   'radii_all': [array([0.86304652, 0.81825217, 0.84311624, 0.87781175, 0.77234257,\n",
       "           0.89685127, 0.90225887, 0.88242449])],\n",
       "   'dimensions_all': [array([10.54156825,  8.83604382,  9.71591169,  9.55430083,  8.31858133,\n",
       "           10.06277328, 10.4612301 , 10.4912305 ])],\n",
       "   'correlations_all': [0.22331162861415318],\n",
       "   'layer': 'layer_0_Input',\n",
       "   'n_hier_class': 8,\n",
       "   'hierarchy': 3},\n",
       "  {'capacities': [nan],\n",
       "   'radii': [nan],\n",
       "   'dimensions': [nan],\n",
       "   'correlations': [nan],\n",
       "   'capacities_all': [array([[nan, nan, nan, nan]])],\n",
       "   'radii_all': [array([[nan, nan, nan, nan]])],\n",
       "   'dimensions_all': [array([[nan, nan, nan, nan]])],\n",
       "   'correlations_all': [array([[nan, nan, nan, nan]])],\n",
       "   'layer': 'layer_0_Input',\n",
       "   'n_hier_class': 4,\n",
       "   'hierarchy': 4},\n",
       "  {'capacities': [nan],\n",
       "   'radii': [nan],\n",
       "   'dimensions': [nan],\n",
       "   'correlations': [nan],\n",
       "   'capacities_all': [array([[nan, nan]])],\n",
       "   'radii_all': [array([[nan, nan]])],\n",
       "   'dimensions_all': [array([[nan, nan]])],\n",
       "   'correlations_all': [array([[nan, nan]])],\n",
       "   'layer': 'layer_0_Input',\n",
       "   'n_hier_class': 2,\n",
       "   'hierarchy': 5}],\n",
       " 'analyze_identifier': 'mftma-exm_per_class=50-proj=False-rand=True-kappa=1e-08-n_t=300-n_rep=5',\n",
       " 'model_identifier': 'NN-tree_nclass=64_nobj=64000_nhier=6_beta=0.000161_sigma=5.0_nfeat=936-train_test-fixed',\n",
       " 'layer_name': 'layer_0_Input',\n",
       " 'train_acc': 0.0,\n",
       " 'test_acc': 3.125,\n",
       " 'epoch': 1,\n",
       " 'files_generated': '/mindhive/evlab/u/Shared/Greta_Eghbal_manifolds/analyze///mftma-exm_per_class=50-proj=False-rand=True-kappa=1e-08-n_t=300-n_rep=5/NN-tree_nclass=64_nobj=64000_nhier=6_beta=0.000161_sigma=5.0_nfeat=936-train_test-fixed/epochs-10_batch-32_lr-0.01_momentum-0.5_init-gaussian_std-1e-06/0005_NN-tree_nclass=64_nobj=64000_nhier=6_beta=0.000161_sigma=5.0_nfeat=936-train_test-fixed-epoch=01-batchidx=90_layer_0_Input_mftma_analysis.pkl'}"
      ]
     },
     "execution_count": 7,
     "metadata": {},
     "output_type": "execute_result"
    }
   ],
   "source": [
    "data_"
   ]
  },
  {
   "cell_type": "code",
   "execution_count": 39,
   "metadata": {},
   "outputs": [
    {
     "data": {
      "text/plain": [
       "['layer_0_Input', 'layer_1_Linear', 'layer_2_Linear', 'layer_3_Linear']"
      ]
     },
     "execution_count": 39,
     "metadata": {},
     "output_type": "execute_result"
    }
   ],
   "source": [
    "params = train_pool[model_identifier]()\n",
    "layer_names=params.get_layer_names()\n",
    "layer_names"
   ]
  },
  {
   "cell_type": "code",
   "execution_count": 96,
   "metadata": {},
   "outputs": [],
   "source": [
    "data_reshaped=dict()\n",
    "for name in layer_names:\n",
    "    hierarchy_dict=dict()\n",
    "    for idx, hierarchy in enumerate(data_['results']):\n",
    "        category_list=[]\n",
    "        for category_pairs in hierarchy:\n",
    "            category_list.append([x[name][0] for x in category_pairs])\n",
    "        hierarchy_dict[idx]=dict(pairs=category_list, distance=[np.diag(cdist(x[0],x[1])) for x in category_list])\n",
    "        \n",
    "    data_reshaped[name]=hierarchy_dict\n",
    "            "
   ]
  },
  {
   "cell_type": "code",
   "execution_count": 131,
   "metadata": {},
   "outputs": [
    {
     "data": {
      "text/plain": [
       "2.3985961746780244"
      ]
     },
     "execution_count": 131,
     "metadata": {},
     "output_type": "execute_result"
    }
   ],
   "source": [
    "np.mean(np.mean(np.stack(data_reshaped['layer_1_Linear'][3]['distance']),axis=1))"
   ]
  },
  {
   "cell_type": "code",
   "execution_count": 54,
   "metadata": {},
   "outputs": [],
   "source": [
    "hier_class=np.stack(params.dataset.hierarchical_target)\n",
    "hier_class=hier_class/np.expand_dims(np.max(hier_class,1),1)"
   ]
  },
  {
   "cell_type": "code",
   "execution_count": 56,
   "metadata": {},
   "outputs": [
    {
     "data": {
      "text/plain": [
       "<matplotlib.image.AxesImage at 0x2b9feec22550>"
      ]
     },
     "execution_count": 56,
     "metadata": {},
     "output_type": "execute_result"
    },
    {
     "data": {
      "image/png": "[encoded data removed]",
      "text/plain": [
       "<Figure size 432x288 with 1 Axes>"
      ]
     },
     "metadata": {
      "needs_background": "light"
     },
     "output_type": "display_data"
    }
   ],
   "source": [
    "plt.imshow(hier_class,aspect='auto')"
   ]
  },
  {
   "cell_type": "code",
   "execution_count": 36,
   "metadata": {},
   "outputs": [
    {
     "data": {
      "text/plain": [
       "(1024, 100)"
      ]
     },
     "execution_count": 36,
     "metadata": {},
     "output_type": "execute_result"
    }
   ],
   "source": [
    "#len(data_['projection_results'][1]['layer_2_Linear'])\n",
    "data_['projection_results'][0]['layer_1_Linear'][0].shape\n"
   ]
  },
  {
   "cell_type": "code",
   "execution_count": 39,
   "metadata": {},
   "outputs": [
    {
     "data": {
      "text/plain": [
       "'mftma-exm_per_class=100-proj=False-rand=False-kappa=0-n_t=300-n_rep=1'"
      ]
     },
     "execution_count": 39,
     "metadata": {},
     "output_type": "execute_result"
    }
   ],
   "source": [
    "data_['analyze_identifier']"
   ]
  },
  {
   "cell_type": "code",
   "execution_count": 4,
   "metadata": {},
   "outputs": [
    {
     "ename": "NameError",
     "evalue": "name 'mftma_resresult_dirs' is not defined",
     "output_type": "error",
     "traceback": [
      "\u001b[0;31m---------------------------------------------------------------------------\u001b[0m",
      "\u001b[0;31mNameError\u001b[0m                                 Traceback (most recent call last)",
      "\u001b[0;32m<ipython-input-4-199b3f8456c7>\u001b[0m in \u001b[0;36m<module>\u001b[0;34m\u001b[0m\n\u001b[0;32m----> 1\u001b[0;31m \u001b[0mfig\u001b[0m\u001b[0;34m,\u001b[0m \u001b[0maxes\u001b[0m \u001b[0;34m=\u001b[0m \u001b[0mplt\u001b[0m\u001b[0;34m.\u001b[0m\u001b[0msubplots\u001b[0m\u001b[0;34m(\u001b[0m\u001b[0;36m5\u001b[0m\u001b[0;34m,\u001b[0m \u001b[0mlen\u001b[0m\u001b[0;34m(\u001b[0m\u001b[0mmftma_resresult_dirs\u001b[0m\u001b[0;34m(\u001b[0m\u001b[0;34m)\u001b[0m\u001b[0;34m)\u001b[0m\u001b[0;34m,\u001b[0m \u001b[0mfigsize\u001b[0m\u001b[0;34m=\u001b[0m\u001b[0;34m(\u001b[0m\u001b[0;36m18\u001b[0m\u001b[0;34m,\u001b[0m \u001b[0;36m15\u001b[0m\u001b[0;34m)\u001b[0m\u001b[0;34m)\u001b[0m\u001b[0;34m\u001b[0m\u001b[0;34m\u001b[0m\u001b[0m\n\u001b[0m\u001b[1;32m      2\u001b[0m \u001b[0maxes\u001b[0m\u001b[0;34m=\u001b[0m\u001b[0maxes\u001b[0m\u001b[0;34m.\u001b[0m\u001b[0mflatten\u001b[0m\u001b[0;34m(\u001b[0m\u001b[0;34m)\u001b[0m\u001b[0;34m\u001b[0m\u001b[0;34m\u001b[0m\u001b[0m\n\u001b[1;32m      3\u001b[0m \u001b[0;32mfor\u001b[0m \u001b[0mk\u001b[0m \u001b[0;32min\u001b[0m \u001b[0mrange\u001b[0m\u001b[0;34m(\u001b[0m\u001b[0;36m4\u001b[0m\u001b[0;34m)\u001b[0m\u001b[0;34m:\u001b[0m\u001b[0;34m\u001b[0m\u001b[0;34m\u001b[0m\u001b[0m\n\u001b[1;32m      4\u001b[0m     \u001b[0mim\u001b[0m\u001b[0;34m=\u001b[0m\u001b[0maxes\u001b[0m\u001b[0;34m[\u001b[0m\u001b[0mk\u001b[0m\u001b[0;34m]\u001b[0m\u001b[0;34m.\u001b[0m\u001b[0mplot\u001b[0m\u001b[0;34m(\u001b[0m\u001b[0mseq\u001b[0m\u001b[0;34m,\u001b[0m\u001b[0maccu\u001b[0m\u001b[0;34m)\u001b[0m\u001b[0;34m\u001b[0m\u001b[0;34m\u001b[0m\u001b[0m\n\u001b[1;32m      5\u001b[0m     \u001b[0maxes\u001b[0m\u001b[0;34m[\u001b[0m\u001b[0mk\u001b[0m\u001b[0;34m]\u001b[0m\u001b[0;34m.\u001b[0m\u001b[0mlegend\u001b[0m\u001b[0;34m(\u001b[0m\u001b[0;34m[\u001b[0m\u001b[0;34m'accu'\u001b[0m\u001b[0;34m]\u001b[0m\u001b[0;34m)\u001b[0m\u001b[0;34m\u001b[0m\u001b[0;34m\u001b[0m\u001b[0m\n",
      "\u001b[0;31mNameError\u001b[0m: name 'mftma_resresult_dirs' is not defined"
     ]
    }
   ],
   "source": [
    "fig, axes = plt.subplots(5, len(mftma_resresult_dirs()), figsize=(18, 15))\n",
    "axes=axes.flatten()\n",
    "for k in range(4):\n",
    "    im=axes[k].plot(seq,accu)\n",
    "    axes[k].legend(['accu'])\n",
    "    axes[k].set_xlim(min(seq), max(seq))\n",
    "for j, key in enumerate(mftma_res.keys()):\n",
    "    mftma=[x['mftma'] for x in mftma_res[key]]\n",
    "    layer_cap=[[x['capacities'] for x in y] for y in mftma]\n",
    "    layer_cap=np.stack(layer_cap).squeeze()   \n",
    "    h0=cm.get_cmap('plasma_r',(layer_cap.shape[1]))\n",
    "    h0_c=np.flipud(h0(np.arange(layer_cap.shape[1])/layer_cap.shape[1]))\n",
    "    for i in range(layer_cap.shape[1]):\n",
    "            im=axes[4+j].plot(layer_cap[:,i],color=h0_c[i,:],linewidth=1,label='hier_'+str(i))\n",
    "    axes[4+j].set_ylabel(r'$\\alpha_M$', fontsize=18)\n",
    "    axes[4+j].set_xlim(min(seq), max(seq))\n",
    "    axes[4+j].set_ylim(np.nanmin(layer_cap),np.nanmax(layer_cap))\n",
    "    #axes[4+j].legend()\n",
    "    axes[4+j].set_title(key)\n",
    "    #fig.colorbar(im, ax=axes[4*(k+1)])\n",
    "\n",
    "idx=8\n",
    "for j, key in enumerate(mftma_res.keys()):\n",
    "    mftma=[x['mftma'] for x in mftma_res[key]]\n",
    "    layer_cap=[[x['radii'] for x in y] for y in mftma]\n",
    "    layer_cap=np.stack(layer_cap).squeeze()   \n",
    "    h0=cm.get_cmap('plasma_r',(layer_cap.shape[1]))\n",
    "    h0_c=np.flipud(h0(np.arange(layer_cap.shape[1])/layer_cap.shape[1]))\n",
    "    for i in range(layer_cap.shape[1]):\n",
    "            im=axes[idx+j].plot(layer_cap[:,i],color=h0_c[i,:],linewidth=1,label='hier_'+str(i))\n",
    "    axes[idx+j].set_ylabel(r'$R_M$', fontsize=18)\n",
    "    axes[idx+j].set_xlim(min(seq), max(seq))\n",
    "    axes[idx+j].set_ylim(np.nanmin(layer_cap),np.nanmax(layer_cap))\n",
    "\n",
    "    axes[idx+j].set_title(key)\n",
    "\n",
    "idx=12\n",
    "for j, key in enumerate(mftma_res.keys()):\n",
    "    mftma=[x['mftma'] for x in mftma_res[key]]\n",
    "    layer_cap=[[x['dimensions'] for x in y] for y in mftma]\n",
    "    layer_cap=np.stack(layer_cap).squeeze()   \n",
    "    h0=cm.get_cmap('plasma_r',(layer_cap.shape[1]))\n",
    "    h0_c=np.flipud(h0(np.arange(layer_cap.shape[1])/layer_cap.shape[1]))\n",
    "    for i in range(layer_cap.shape[1]):\n",
    "            im=axes[idx+j].plot(layer_cap[:,i],color=h0_c[i,:],linewidth=1,label='hier_'+str(i))\n",
    "    axes[idx+j].set_ylabel(r'$D_M$', fontsize=18)\n",
    "    axes[idx+j].set_xlim(min(seq), max(seq))\n",
    "    axes[idx+j].set_ylim(np.nanmin(layer_cap),np.nanmax(layer_cap))\n",
    "    \n",
    "    axes[idx+j].set_title(key)\n",
    "\n",
    "idx=16\n",
    "for j, key in enumerate(mftma_res.keys()):\n",
    "    mftma=[x['mftma'] for x in mftma_res[key]]\n",
    "    layer_cap=[[x['correlations'] for x in y] for y in mftma]\n",
    "    layer_cap=np.stack(layer_cap).squeeze()   \n",
    "    h0=cm.get_cmap('plasma_r',(layer_cap.shape[1]))\n",
    "    h0_c=np.flipud(h0(np.arange(layer_cap.shape[1])/layer_cap.shape[1]))\n",
    "    for i in range(layer_cap.shape[1]):\n",
    "            im=axes[idx+j].plot(layer_cap[:,i],color=h0_c[i,:],linewidth=1,label='hier_'+str(i))\n",
    "    axes[idx+j].set_ylabel(r'$\\rho_{center}$', fontsize=18)\n",
    "    axes[idx+j].set_xlim(min(seq), max(seq))\n",
    "    axes[idx+j].set_ylim(np.nanmin(layer_cap),np.nanmax(layer_cap))\n",
    "    axes[idx+j].legend()\n",
    "    axes[idx+j].set_title(key)\n",
    "\n",
    "plt.suptitle(model_identifier)\n",
    "plt.tight_layout()\n",
    "plt.show()\n",
    "fig.savefig(os.path.join(result_dir,analyze_identifier,model_identifier+'_hierarchy_vals_during_training.png'),transparent=True)"
   ]
  },
  {
   "cell_type": "markdown",
   "metadata": {
    "pycharm": {
     "name": "#%% md\n"
    }
   },
   "source": [
    "# training accurary for different sigma and beta "
   ]
  },
  {
   "cell_type": "code",
   "execution_count": 8,
   "metadata": {},
   "outputs": [],
   "source": [
    "from utils import save_dir, analyze_dir"
   ]
  },
  {
   "cell_type": "code",
   "execution_count": 21,
   "metadata": {},
   "outputs": [],
   "source": [
    "struct_list=['partition','tree']\n",
    "nhier=[1,6]\n",
    "beta=[0.0, 0.016, 0.033, 0.05]\n",
    "sigma=[0.0, 0.833, 1.667, 2.5]\n",
    "nclass=[64,96]\n",
    "model_train_test_acc=[]\n",
    "for b in beta:\n",
    "    for s in sigma:\n",
    "        for n in nclass:\n",
    "            for idx , struct in enumerate(struct_list):\n",
    "                model=f\"NN-{struct_list[idx]}_nclass={n}_nobj={n * 1000}_nhier={nhier[idx]}_beta={b}_sigma={s}_nfeat=3072-train_test-fixed\"\n",
    "                model_train_acc=f'acc_train_{model}.csv'\n",
    "                model_test_acc=f'acc_test_{model}.csv'\n",
    "                train=open(os.path.join(save_dir,model,model_train_acc),'r')\n",
    "                train_lines=[float(x) for x in train.read().splitlines()]\n",
    "                train.flush()\n",
    "                test=open(os.path.join(save_dir,model,model_test_acc),'r')\n",
    "                test_lines=[float(x) for x in test.read().splitlines()]\n",
    "                test.flush()\n",
    "\n",
    "                model_train_test_acc.append(dict(beta=b,sigma=s,nclass=n,structure=struct,n_hier=nhier[idx],name=model,train_acc=train_lines,test_acc=test_lines))"
   ]
  },
  {
   "cell_type": "code",
   "execution_count": 84,
   "metadata": {},
   "outputs": [
    {
     "data": {
      "image/png": "[encoded data removed]",
      "text/plain": [
       "<Figure size 720x720 with 4 Axes>"
      ]
     },
     "metadata": {
      "needs_background": "light"
     },
     "output_type": "display_data"
    }
   ],
   "source": [
    "fig, axes = plt.subplots(2, 2, figsize=(10, 10))\n",
    "axes=axes.flatten()\n",
    "st='partition'\n",
    "ncl=64\n",
    "ax=axes[0]\n",
    "data=[(x['beta'],x['sigma'],x['train_acc'][-1],x['test_acc'][-1]) for x in model_train_test_acc if x['structure']==st and x['nclass']==ncl ]\n",
    "b_val=np.asarray(data)[:,0].reshape(4,4)\n",
    "s_val=np.asarray(data)[:,1].reshape(4,4)\n",
    "test_val=np.asarray(data)[:,3].reshape(4,4)\n",
    "ax.imshow(test_val)\n",
    "ax.set_xticks(np.arange(s_val.shape[0]))\n",
    "ax.set_yticks(np.arange(b_val.shape[0]))\n",
    "ax.set_xticklabels(s_val.mean(axis=0))\n",
    "ax.set_yticklabels(b_val.mean(axis=1))\n",
    "for i in range(b_val.shape[0]):\n",
    "    for j in range(s_val.shape[0]):\n",
    "        text = ax.text(j, i, test_val[i, j],\n",
    "                       ha=\"center\", va=\"center\", color=\"w\",fontweight='bold')\n",
    "ax.set_title(f'{st}, {ncl} classes',fontsize=14,fontweight='bold')\n",
    "\n",
    "\n",
    "st='partition'\n",
    "ncl=96\n",
    "ax=axes[1]\n",
    "data=[(x['beta'],x['sigma'],x['train_acc'][-1],x['test_acc'][-1]) for x in model_train_test_acc if x['structure']==st and x['nclass']==ncl ]\n",
    "b_val=np.asarray(data)[:,0].reshape(4,4)\n",
    "s_val=np.asarray(data)[:,1].reshape(4,4)\n",
    "test_val=np.asarray(data)[:,3].reshape(4,4)\n",
    "ax.imshow(test_val)\n",
    "ax.set_xticks(np.arange(s_val.shape[0]))\n",
    "ax.set_yticks(np.arange(b_val.shape[0]))\n",
    "ax.set_xticklabels(s_val.mean(axis=0))\n",
    "ax.set_yticklabels(b_val.mean(axis=1))\n",
    "for i in range(b_val.shape[0]):\n",
    "    for j in range(s_val.shape[0]):\n",
    "        text = ax.text(j, i, test_val[i, j],\n",
    "                       ha=\"center\", va=\"center\", color=\"w\",fontweight='bold')\n",
    "ax.set_title(f'{st}, {ncl} classes',fontsize=14,fontweight='bold')\n",
    "\n",
    "\n",
    "st='tree'\n",
    "ncl=64\n",
    "ax=axes[2]\n",
    "data=[(x['beta'],x['sigma'],x['train_acc'][-1],x['test_acc'][-1]) for x in model_train_test_acc if x['structure']==st and x['nclass']==ncl ]\n",
    "b_val=np.asarray(data)[:,0].reshape(4,4)\n",
    "s_val=np.asarray(data)[:,1].reshape(4,4)\n",
    "test_val=np.asarray(data)[:,3].reshape(4,4)\n",
    "ax.imshow(test_val)\n",
    "ax.set_xticks(np.arange(s_val.shape[0]))\n",
    "ax.set_yticks(np.arange(b_val.shape[0]))\n",
    "ax.set_xticklabels(s_val.mean(axis=0))\n",
    "ax.set_yticklabels(b_val.mean(axis=1))\n",
    "for i in range(b_val.shape[0]):\n",
    "    for j in range(s_val.shape[0]):\n",
    "        text = ax.text(j, i, test_val[i, j],\n",
    "                       ha=\"center\", va=\"center\", color=\"w\",fontweight='bold')\n",
    "ax.set_title(f'{st}, {ncl} classes',fontsize=14,fontweight='bold')\n",
    "\n",
    "st='tree'\n",
    "ncl=96\n",
    "ax=axes[3]\n",
    "data=[(x['beta'],x['sigma'],x['train_acc'][-1],x['test_acc'][-1]) for x in model_train_test_acc if x['structure']==st and x['nclass']==ncl ]\n",
    "b_val=np.asarray(data)[:,0].reshape(4,4)\n",
    "s_val=np.asarray(data)[:,1].reshape(4,4)\n",
    "test_val=np.asarray(data)[:,3].reshape(4,4)\n",
    "ax.imshow(test_val)\n",
    "ax.set_xticks(np.arange(s_val.shape[0]))\n",
    "ax.set_yticks(np.arange(b_val.shape[0]))\n",
    "ax.set_xticklabels(s_val.mean(axis=0))\n",
    "ax.set_yticklabels(b_val.mean(axis=1))\n",
    "for i in range(b_val.shape[0]):\n",
    "    for j in range(s_val.shape[0]):\n",
    "        text = ax.text(j, i, test_val[i, j],\n",
    "                       ha=\"center\", va=\"center\", color=\"w\",fontweight='bold')\n",
    "ax.set_title(f'{st}, {ncl} classes',fontsize=14,fontweight='bold')\n",
    "\n",
    "ax.set_xlabel('sigma',fontsize=14)\n",
    "ax.set_ylabel('beta',fontsize=14)\n",
    "plt.suptitle('test accuracy',fontsize=16,fontweight='bold')\n",
    "fig.tight_layout()\n",
    "\n",
    "if not os.path.exists(os.path.join(result_dir,'training_result')):\n",
    "        os.mkdir(os.path.join(result_dir,'training_result'))\n",
    "fig.savefig(os.path.join(result_dir,'training_result',f'test_accu_structures:partition,tree_betas:{b_val.min()},{b_val.max()}_sigmas:{s_val.min()},{s_val.max()}.png'),transparent=True)"
   ]
  }
 ],
 "metadata": {
  "kernelspec": {
   "display_name": "Python 3",
   "language": "python",
   "name": "python3"
  },
  "language_info": {
   "codemirror_mode": {
    "name": "ipython",
    "version": 3
   },
   "file_extension": ".py",
   "mimetype": "text/x-python",
   "name": "python",
   "nbconvert_exporter": "python",
   "pygments_lexer": "ipython3",
   "version": "3.8.5"
  }
 },
 "nbformat": 4,
 "nbformat_minor": 4
}
