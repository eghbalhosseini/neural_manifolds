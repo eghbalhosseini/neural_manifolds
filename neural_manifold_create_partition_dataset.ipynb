{
 "cells": [
  {
   "cell_type": "code",
   "execution_count": 9,
   "metadata": {},
   "outputs": [],
   "source": [
    "import networkx as nx\n",
    "import matplotlib.pyplot as plt\n",
    "import numpy as np \n",
    "import pygraphviz as pgv"
   ]
  },
  {
   "cell_type": "code",
   "execution_count": 14,
   "metadata": {},
   "outputs": [],
   "source": [
    "beta=0.4;\n",
    "n_feat=28*28;\n",
    "num_classes=50;\n",
    "example_per_class=20;\n",
    "n_entites=num_classes*example_per_class;\n",
    "n_latent=num_classes;\n",
    "node_s=np.arange(n_entites)\n",
    "node_t=np.ones((example_per_class,1))@np.expand_dims((n_entites+np.arange(num_classes)),axis=0)\n",
    "node_t=np.reshape(node_t.T,(-1,1));\n"
   ]
  },
  {
   "cell_type": "code",
   "execution_count": 15,
   "metadata": {},
   "outputs": [],
   "source": [
    "node_list=[(int(node_s[x]),int(np.squeeze(node_t[x][:]))) for x in range(n_entites)]"
   ]
  },
  {
   "cell_type": "code",
   "execution_count": 16,
   "metadata": {},
   "outputs": [],
   "source": [
    "G = nx.Graph()\n",
    "G.add_edges_from(node_list)"
   ]
  },
  {
   "cell_type": "code",
   "execution_count": 19,
   "metadata": {},
   "outputs": [],
   "source": [
    "A=nx.nx_agraph.to_agraph(G)\n",
    "A.layout()\n",
    "A.draw('simple.png')"
   ]
  },
  {
   "cell_type": "code",
   "execution_count": 22,
   "metadata": {},
   "outputs": [],
   "source": [
    "adj_mat=nx.adjacency_matrix(G)e"
   ]
  },
  {
   "cell_type": "code",
   "execution_count": null,
   "metadata": {},
   "outputs": [],
   "source": []
  }
 ],
 "metadata": {
  "kernelspec": {
   "display_name": "py36_manifold",
   "language": "python",
   "name": "py36_manifold"
  },
  "language_info": {
   "codemirror_mode": {
    "name": "ipython",
    "version": 3
   },
   "file_extension": ".py",
   "mimetype": "text/x-python",
   "name": "python",
   "nbconvert_exporter": "python",
   "pygments_lexer": "ipython3",
   "version": "3.7.7"
  }
 },
 "nbformat": 4,
 "nbformat_minor": 4
}
