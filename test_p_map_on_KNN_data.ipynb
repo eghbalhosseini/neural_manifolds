{
 "cells": [
  {
   "cell_type": "code",
   "execution_count": 1,
   "id": "conservative-tours",
   "metadata": {},
   "outputs": [],
   "source": [
    "import scanpy as sc\n",
    "import pandas as pd\n",
    "import numpy as np\n",
    "import pickle\n",
    "import sys \n",
    "sys.path.insert(1,'/om/user/ehoseini/PoincareMaps')\n",
    "from poincare_maps import *\n",
    "from main import *\n",
    "import torch \n",
    "%matplotlib inline\n",
    "device =torch.device(\"cuda:0\" if torch.cuda.is_available() else \"cpu\")\n",
    "try :\n",
    "    torch.set_deterministic(True)\n",
    "except:\n",
    "    pass\n",
    "torch.set_printoptions(precision=10)"
   ]
  },
  {
   "cell_type": "code",
   "execution_count": 30,
   "id": "threaded-workshop",
   "metadata": {},
   "outputs": [],
   "source": [
    "ROOTDIR = \"/mindhive/evlab/u/Shared/Greta_Eghbal_manifolds/\"\n",
    "model_identifier = \"NN-tree_nclass=64_nobj=64000_nhier=6_beta=0.000161_sigma=5.0_nfeat=936-train_test-fixed\"\n",
    "train_identifier = \"epochs-10_batch-32_lr-0.01_momentum-0.5_init-gaussian_std-1e-06\"\n",
    "analyze_identifier = \"mftma-exm_per_class=50-proj=False-rand=True-kappa=1e-08-n_t=300-n_rep=5\"\n",
    "num_subsamples = 100\n",
    "k = 100\n",
    "hier_idx = 4\n",
    "layers = [\"layer_0_Input\", \"layer_1_Linear\", \"layer_2_Linear\", \"layer_3_Linear\"]\n",
    "layer = layers[1]\n",
    "knn_identifier = f\"knn_k={k}_subsamples={num_subsamples}\" \n",
    "pkl_name = f\"layer={layer}_hier={hier_idx}_with_data.pkl\"\n",
    "\n",
    "SAVEDIR = os.path.join(ROOTDIR, \"analyze\", knn_identifier, model_identifier, train_identifier)"
   ]
  },
  {
   "cell_type": "code",
   "execution_count": 31,
   "id": "tested-words",
   "metadata": {},
   "outputs": [],
   "source": [
    "data = pickle.load(open(os.path.join(SAVEDIR+\"/\"+pkl_name),\"rb\"))"
   ]
  },
  {
   "cell_type": "code",
   "execution_count": 32,
   "id": "abstract-dictionary",
   "metadata": {},
   "outputs": [],
   "source": [
    "feat=torch.tensor(data['data']).to(device)\n",
    "labels=torch.tensor(np.ravel(np.stack(data['targets']))).to(device)"
   ]
  },
  {
   "cell_type": "code",
   "execution_count": 35,
   "id": "funny-sound",
   "metadata": {},
   "outputs": [
    {
     "data": {
      "image/png": "[encoded data removed]",
      "text/plain": [
       "<Figure size 432x288 with 1 Axes>"
      ]
     },
     "metadata": {
      "needs_background": "light"
     },
     "output_type": "display_data"
    }
   ],
   "source": [
    "# reduce the dimensionality of features\n",
    "low_dim_num=10\n",
    "pca_type='equal_var'\n",
    "u, s, v = torch.svd(feat)\n",
    "# keep 85% variance explained ,\n",
    "idx_85 = torch.cumsum(s ** 2, dim=0) / torch.sum(s ** 2) <= .95\n",
    "cols = list(torch.where(idx_85)[0].cpu().numpy())\n",
    "if pca_type == 'fixed':\n",
    "    feat_pca = torch.matmul(feat, v[:, :low_dim_num])\n",
    "elif pca_type == 'equal_var':\n",
    "    feat_pca = torch.matmul(feat, v[:, cols])\n",
    "var_explained=torch.cumsum(torch.cat((torch.tensor([0], device=feat.device,dtype=feat.dtype), s ** 2)),\n",
    "                                              dim=0) / torch.sum(s ** 2)\n",
    "plt.plot(var_explained.cpu())\n",
    "plt.show()"
   ]
  },
  {
   "cell_type": "code",
   "execution_count": 36,
   "id": "pointed-fellowship",
   "metadata": {},
   "outputs": [],
   "source": [
    "samples=np.linspace(0,labels.shape[0]-1,10000).astype('int')\n",
    "\n",
    "feat_subsample=feat_pca[samples,:]\n",
    "label_subsample=labels[samples]"
   ]
  },
  {
   "cell_type": "code",
   "execution_count": 37,
   "id": "approved-damages",
   "metadata": {},
   "outputs": [
    {
     "name": "stdout",
     "output_type": "stream",
     "text": [
      "Computing laplacian...\n",
      "Laplacian computed in 9.92 sec\n",
      "Computing RFA...\n"
     ]
    },
    {
     "name": "stderr",
     "output_type": "stream",
     "text": [
      "  0%|                                                  | 0/1000 [00:00<?, ?it/s]"
     ]
    },
    {
     "name": "stdout",
     "output_type": "stream",
     "text": [
      "RFA computed in 66.31 sec\n",
      "batchsize =  512\n",
      "Starting training...\n"
     ]
    },
    {
     "name": "stderr",
     "output_type": "stream",
     "text": [
      "loss: 2.31924: 100%|████████████████████████| 1000/1000 [09:24<00:00,  1.77it/s]"
     ]
    },
    {
     "name": "stdout",
     "output_type": "stream",
     "text": [
      "PM computed in 564.10 sec\n"
     ]
    },
    {
     "name": "stderr",
     "output_type": "stream",
     "text": [
      "\n"
     ]
    },
    {
     "data": {
      "image/png": "[encoded data removed]",
      "text/plain": [
       "<Figure size 288x288 with 1 Axes>"
      ]
     },
     "metadata": {
      "needs_background": "light"
     },
     "output_type": "display_data"
    },
    {
     "name": "stdout",
     "output_type": "stream",
     "text": [
      "loss = 2.319e+00\n",
      "time = 9.404 min\n"
     ]
    },
    {
     "data": {
      "text/plain": [
       "<Figure size 432x288 with 0 Axes>"
      ]
     },
     "metadata": {},
     "output_type": "display_data"
    }
   ],
   "source": [
    "poincare_coord, _ = compute_poincare_maps(feat_subsample.cpu(), label_subsample.cpu(),\n",
    "                        f\"{SAVEDIR}/poincare_maps/p_map_data_{layer}_hier_{hier_idx}\",\n",
    "                        mode='features', k_neighbours=15, \n",
    "                        distlocal='minkowski', sigma=1.0, gamma=2.0,\n",
    "                        color_dict=None, epochs=1000,\n",
    "                        batchsize=-1, lr=0.1, earlystop=0.0001, cuda=1)"
   ]
  },
  {
   "cell_type": "code",
   "execution_count": 38,
   "id": "collect-armenia",
   "metadata": {},
   "outputs": [],
   "source": [
    "model = PoincareMaps(poincare_coord)"
   ]
  },
  {
   "cell_type": "code",
   "execution_count": 39,
   "id": "needed-university",
   "metadata": {},
   "outputs": [
    {
     "data": {
      "image/png": "[encoded data removed]",
      "text/plain": [
       "<Figure size 324x288 with 1 Axes>"
      ]
     },
     "metadata": {
      "needs_background": "light"
     },
     "output_type": "display_data"
    }
   ],
   "source": [
    "model.plot('ori', labels=label_subsample.cpu(), file_name=f\"{SAVEDIR}/poincare_maps/p_map_plot_{layer}_hier_{hier_idx}\", \n",
    "           title_name='Poincaré map',coldict=None, labels_order=None, zoom=None, bbox=(1.1, 0.8))"
   ]
  },
  {
   "cell_type": "code",
   "execution_count": 26,
   "id": "distributed-adrian",
   "metadata": {},
   "outputs": [
    {
     "data": {
      "text/plain": [
       "'/mindhive/evlab/u/Shared/Greta_Eghbal_manifolds/analyze/knn_k=100_subsamples=100/NN-tree_nclass=64_nobj=64000_nhier=6_beta=0.000161_sigma=5.0_nfeat=936-train_test-fixed/epochs-10_batch-32_lr-0.01_momentum-0.5_init-gaussian_std-1e-06/poincare_maps/layer_1_Linear_hier_3'"
      ]
     },
     "execution_count": 26,
     "metadata": {},
     "output_type": "execute_result"
    }
   ],
   "source": []
  },
  {
   "cell_type": "code",
   "execution_count": null,
   "id": "invisible-medicine",
   "metadata": {},
   "outputs": [],
   "source": []
  }
 ],
 "metadata": {
  "kernelspec": {
   "display_name": "Python 3",
   "language": "python",
   "name": "python3"
  },
  "language_info": {
   "codemirror_mode": {
    "name": "ipython",
    "version": 3
   },
   "file_extension": ".py",
   "mimetype": "text/x-python",
   "name": "python",
   "nbconvert_exporter": "python",
   "pygments_lexer": "ipython3",
   "version": "3.7.10"
  }
 },
 "nbformat": 4,
 "nbformat_minor": 5
}
